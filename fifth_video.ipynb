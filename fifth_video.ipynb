{
 "cells": [
  {
   "cell_type": "code",
   "execution_count": 1,
   "metadata": {},
   "outputs": [],
   "source": [
    "import torch\n",
    "import torch.nn.functional as F\n",
    "import matplotlib.pyplot as plt\n",
    "%matplotlib inline"
   ]
  },
  {
   "cell_type": "code",
   "execution_count": 2,
   "metadata": {},
   "outputs": [
    {
     "data": {
      "text/plain": [
       "['emma', 'olivia', 'ava', 'isabella', 'sophia', 'charlotte', 'mia', 'daisuke']"
      ]
     },
     "execution_count": 2,
     "metadata": {},
     "output_type": "execute_result"
    }
   ],
   "source": [
    "# read words \n",
    "words = open(\"names.txt\", \"r\").read().splitlines()\n",
    "words[:8]"
   ]
  },
  {
   "cell_type": "code",
   "execution_count": 9,
   "metadata": {},
   "outputs": [
    {
     "name": "stdout",
     "output_type": "stream",
     "text": [
      "{1: 'a', 2: 'b', 3: 'c', 4: 'd', 5: 'e', 6: 'f', 7: 'g', 8: 'h', 9: 'i', 10: 'j', 11: 'k', 12: 'l', 13: 'm', 14: 'n', 15: 'o', 16: 'p', 17: 'q', 18: 'r', 19: 's', 20: 't', 21: 'u', 22: 'v', 23: 'w', 24: 'x', 25: 'y', 26: 'z', 0: '.'} 26\n"
     ]
    }
   ],
   "source": [
    "# build the vocab of chars and mapping to/from int\n",
    "chars = sorted(list(set(''.join(words))))\n",
    "stoi = {ch: i + 1 for i, ch in enumerate(chars)}\n",
    "stoi['.'] = 0\n",
    "itos = {i: ch for ch, i in stoi.items()}\n",
    "vocab_size = len(itos)\n",
    "print(itos, len(chars))"
   ]
  },
  {
   "cell_type": "code",
   "execution_count": 10,
   "metadata": {},
   "outputs": [
    {
     "name": "stdout",
     "output_type": "stream",
     "text": [
      "torch.Size([182540, 3]) torch.Size([182540])\n",
      "torch.Size([22936, 3]) torch.Size([22936])\n",
      "torch.Size([22678, 3]) torch.Size([22678])\n"
     ]
    }
   ],
   "source": [
    "block_size = 3 \n",
    "def build_dataset(words):\n",
    "\n",
    "    X_input, Y_label = [], []\n",
    "    for word in words:\n",
    "        context = [0] * block_size\n",
    "        for ch in word + '.':\n",
    "            ix = stoi[ch]\n",
    "            X_input.append(context)\n",
    "            Y_label.append(ix)\n",
    "            context = context[1:] + [ix] # crop and append\n",
    "\n",
    "    X_input = torch.tensor(X_input, dtype=torch.int64)\n",
    "    Y_label = torch.tensor(Y_label, dtype=torch.int64)\n",
    "    print(X_input.shape, Y_label.shape)\n",
    "    return X_input, Y_label\n",
    "\n",
    "import random\n",
    "random.seed(42)\n",
    "random.shuffle(words)\n",
    "n1 = int(len(words) * 0.8)\n",
    "n2 = int(len(words) * 0.9)\n",
    "\n",
    "Xtr, Ytr = build_dataset(words[:n1])\n",
    "Xdev, Ydev = build_dataset(words[n1:n2])\n",
    "Xte, Yte = build_dataset(words[n2:])"
   ]
  },
  {
   "cell_type": "code",
   "execution_count": 11,
   "metadata": {},
   "outputs": [],
   "source": [
    "class Linear:\n",
    "\n",
    "    def __init__(self, fan_in, fan_out, bias=True):\n",
    "        self.weight = torch.randn((fan_in, fan_out), generator=g) / fan_in ** 0.5\n",
    "        self.bias = torch.zeros(fan_out) if bias else None\n",
    "\n",
    "    def __call__(self, x):\n",
    "        self.out = x @ self.weight\n",
    "        if self.bias is not None:\n",
    "            self.out += self.bias\n",
    "        return self.out\n",
    "\n",
    "    def parameters(self):\n",
    "        return [self.weight] + ([self.bias] if self.bias is not None else [])\n",
    "\n",
    "class BatchNormId:\n",
    "\n",
    "    def __init__(self, dim, eps=1e-5, momentum=0.1):\n",
    "        self.eps = eps\n",
    "        self.momentum = momentum\n",
    "        self.training = True\n",
    "\n",
    "        # parameters (trained with backprop)\n",
    "        self.gamma = torch.ones(dim)\n",
    "        self.beta = torch.zeros(dim)\n",
    "\n",
    "        # buffers (trained with a running momentum uddate)\n",
    "        self.running_mean = torch.zeros(dim)\n",
    "        self.running_var = torch.ones(dim)\n",
    "\n",
    "    def __call__(self, x):\n",
    "        if self.training:\n",
    "            # training mode\n",
    "            x_mean = x.mean(0, keepdim=True) # batch mean\n",
    "            x_var = x.var(0, keepdim=True) # batch variance\n",
    "        else:\n",
    "            # evaluation mode\n",
    "            x_mean = self.running_mean\n",
    "            x_var = self.running_var\n",
    "        x_hat = (x - x_mean) / torch.sqrt(x_var + self.eps)\n",
    "        self.out = self.gamma * x_hat + self.beta\n",
    "\n",
    "        # update buffers\n",
    "        if self.training:\n",
    "            self.running_mean = self.momentum * x_mean + (1 - self.momentum) * self.running_mean\n",
    "            self.running_var = self.momentum * x_var + (1 - self.momentum) * self.running_var\n",
    "\n",
    "        return self.out\n",
    "    \n",
    "    def parameters(self):\n",
    "        return [self.gamma, self.beta]\n",
    "\n",
    "class Tanh:\n",
    "    \n",
    "        def __call__(self, x):\n",
    "            self.out = torch.tanh(x)\n",
    "            return self.out\n",
    "    \n",
    "        def parameters(self):\n",
    "            return []\n"
   ]
  },
  {
   "cell_type": "code",
   "execution_count": 12,
   "metadata": {},
   "outputs": [
    {
     "data": {
      "text/plain": [
       "<torch._C.Generator at 0x107d772d0>"
      ]
     },
     "execution_count": 12,
     "metadata": {},
     "output_type": "execute_result"
    }
   ],
   "source": [
    "torch.manual_seed(42)"
   ]
  },
  {
   "cell_type": "code",
   "execution_count": 15,
   "metadata": {},
   "outputs": [
    {
     "name": "stdout",
     "output_type": "stream",
     "text": [
      "6197\n"
     ]
    }
   ],
   "source": [
    "n_emb = 10 # the dimentionality of the embedding vectors \n",
    "n_hidden = 100 # the number of hidden units\n",
    "\n",
    "C = torch.randn((vocab_size, n_emb)) # the embedding matrix\n",
    "layers = [\n",
    "    Linear(n_emb * block_size, n_hidden, bias=False), BatchNormId(n_hidden), Tanh(),\n",
    "    Linear(n_hidden, vocab_size),\n",
    "]\n",
    "\n",
    "with torch.no_grad():\n",
    "    layers[-1].weight *= 1.0 # 5/3, batch normを使わないときの初期値gain\n",
    "\n",
    "parameters = [C] + [p for layer in layers for p in layer.parameters()]\n",
    "print(sum(p.nelement() for p in parameters))\n",
    "for p in parameters:\n",
    "    p.requires_grad = True"
   ]
  },
  {
   "cell_type": "code",
   "execution_count": 16,
   "metadata": {},
   "outputs": [
    {
     "name": "stdout",
     "output_type": "stream",
     "text": [
      "      0:  200000 3.3511\n",
      "  10000:  200000 2.3333\n",
      "  20000:  200000 2.1959\n",
      "  30000:  200000 2.1955\n",
      "  40000:  200000 1.7435\n",
      "  50000:  200000 2.2480\n",
      "  60000:  200000 1.7787\n",
      "  70000:  200000 2.3658\n",
      "  80000:  200000 2.2404\n",
      "  90000:  200000 2.1787\n",
      " 100000:  200000 2.1350\n",
      " 110000:  200000 1.7094\n",
      " 120000:  200000 2.2768\n",
      " 130000:  200000 2.2119\n",
      " 140000:  200000 2.2972\n",
      " 150000:  200000 2.1882\n",
      " 160000:  200000 1.6255\n",
      " 170000:  200000 2.3030\n",
      " 180000:  200000 1.7878\n",
      " 190000:  200000 2.2071\n"
     ]
    }
   ],
   "source": [
    "batch_size = 32\n",
    "lossi = []\n",
    "max_steps = 200000\n",
    "\n",
    "for i in range(max_steps):\n",
    "\n",
    "    # minibatch construction\n",
    "    ix = torch.randint(0, Xtr.shape[0], (batch_size,))\n",
    "    Xb, Yb = Xtr[ix], Ytr[ix] # batch of X and Y\n",
    "\n",
    "    # forward pass\n",
    "    emb = C[Xb] # embedding the characters into vectors\n",
    "    x = emb.view(emb.shape[0], -1) # concatenate the vectors\n",
    "    for layer in layers:\n",
    "        x = layer(x)\n",
    "    loss = F.cross_entropy(x, Yb)\n",
    "\n",
    "    # backward pass\n",
    "    for p in parameters:\n",
    "        p.grad = None\n",
    "    loss.backward()\n",
    "    \n",
    "    # update parameters\n",
    "    lr = 0.1 if i < 150000 else 0.01\n",
    "    for p in parameters:\n",
    "        p.data += -lr * p.grad\n",
    "\n",
    "    # tracking stats\n",
    "    # lri.append(lrp[i])\n",
    "    if i % 10000 == 0:\n",
    "        print(f\"{i:7d}: {max_steps:7d} {loss.item():.4f}\")\n",
    "    lossi.append(loss.log10().item())\n"
   ]
  },
  {
   "cell_type": "code",
   "execution_count": 20,
   "metadata": {},
   "outputs": [
    {
     "data": {
      "text/plain": [
       "[<matplotlib.lines.Line2D at 0x13796bf10>]"
      ]
     },
     "execution_count": 20,
     "metadata": {},
     "output_type": "execute_result"
    },
    {
     "data": {
      "image/png": "[encoded data removed]",
      "text/plain": [
       "<Figure size 640x480 with 1 Axes>"
      ]
     },
     "metadata": {},
     "output_type": "display_data"
    }
   ],
   "source": [
    "plt.plot(lossi)"
   ]
  },
  {
   "cell_type": "code",
   "execution_count": 17,
   "metadata": {},
   "outputs": [],
   "source": [
    "for layer in layers:\n",
    "    layer.training = False"
   ]
  },
  {
   "cell_type": "code",
   "execution_count": 18,
   "metadata": {},
   "outputs": [
    {
     "name": "stdout",
     "output_type": "stream",
     "text": [
      "traing loss: 2.1065\n",
      "val loss: 2.1417\n"
     ]
    }
   ],
   "source": [
    "@torch.no_grad() # no need to track gradients, evaluating alone makes it faster\n",
    "def split_loss(split):\n",
    "    x, y = {\n",
    "        'traing': (Xtr, Ytr),\n",
    "        'val': (Xdev, Ydev),\n",
    "        'test': (Xte, Yte),\n",
    "    }[split]\n",
    "\n",
    "    emb = C[x]\n",
    "    x = emb.view(emb.shape[0], -1) # concatenate into (batch_size, n_emb * block_size)\n",
    "    for layer in layers:\n",
    "        x = layer(x)\n",
    "    loss = F.cross_entropy(x, y)\n",
    "    print (f\"{split} loss: {loss.item():.4f}\")\n",
    "\n",
    "split_loss('traing')\n",
    "split_loss('val')"
   ]
  },
  {
   "cell_type": "code",
   "execution_count": 19,
   "metadata": {},
   "outputs": [
    {
     "name": "stdout",
     "output_type": "stream",
     "text": [
      "jah.\n",
      "kymerysonina.\n",
      "masyn.\n",
      "nis.\n",
      "haf.\n",
      "kasee.\n",
      "hawnadhim.\n",
      "anna.\n",
      "kamorre.\n",
      "per.\n",
      "makethanel.\n",
      "leonia.\n",
      "had.\n",
      "kaime.\n",
      "pensleli.\n",
      "arlin.\n",
      "colbriah.\n",
      "kaylis.\n",
      "alennionina.\n",
      "jan.\n"
     ]
    }
   ],
   "source": [
    "# sample from the model\n",
    "g = torch.Generator().manual_seed(214483647 + 10)\n",
    "\n",
    "for _ in range(20):\n",
    "\n",
    "    out = []\n",
    "    context = [0] * block_size # start with all ... (zeros)\n",
    "    while True:\n",
    "        emb = C[torch.tensor([context])] # (1, block_size, d)\n",
    "        x = emb.view(emb.shape[0], -1)\n",
    "        for layer in layers:\n",
    "            x = layer(x)\n",
    "        logits = x # (1, n_vocab)\n",
    "        probs = F.softmax(logits, dim=1)\n",
    "        # sample from the distribution\n",
    "        ix = torch.multinomial(probs, num_samples=1, generator=g).item()\n",
    "        # shift the context and append the new char\n",
    "        context = context[1:] + [ix]\n",
    "        out.append(ix)\n",
    "        # if we hit the end of the word(special token), stop\n",
    "        if ix == 0:\n",
    "            break\n",
    "\n",
    "    print(\"\".join(itos[i] for i in out)) # decord and print the word"
   ]
  }
 ],
 "metadata": {
  "kernelspec": {
   "display_name": "nn-bsgCLbAH",
   "language": "python",
   "name": "python3"
  },
  "language_info": {
   "codemirror_mode": {
    "name": "ipython",
    "version": 3
   },
   "file_extension": ".py",
   "mimetype": "text/x-python",
   "name": "python",
   "nbconvert_exporter": "python",
   "pygments_lexer": "ipython3",
   "version": "3.9.14"
  },
  "orig_nbformat": 4,
  "vscode": {
   "interpreter": {
    "hash": "184f2c067958e9c267ce0a7c8aebdd50ce5e8f08e94f6c95374784263bd32a8a"
   }
  }
 },
 "nbformat": 4,
 "nbformat_minor": 2
}
