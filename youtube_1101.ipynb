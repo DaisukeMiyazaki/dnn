{
 "cells": [
  {
   "cell_type": "code",
   "execution_count": 76,
   "metadata": {},
   "outputs": [],
   "source": [
    "import math\n",
    "import numpy as np\n",
    "import matplotlib.pyplot as plt\n",
    "%matplotlib inline"
   ]
  },
  {
   "cell_type": "code",
   "execution_count": 240,
   "metadata": {},
   "outputs": [],
   "source": [
    "class Value:\n",
    "\n",
    "    def __init__(self, data, _children=(), _op='', label=''):\n",
    "        self.data = data\n",
    "        self.grad = 0.0\n",
    "        self._backward = lambda: None\n",
    "        self._prev = set(_children)\n",
    "        self._op = _op\n",
    "        self.label = label\n",
    "\n",
    "    def __repr__(self) -> str:\n",
    "        return f\"Value(data={self.data})\"\n",
    "\n",
    "    def __add__(self, other):\n",
    "        other = other if isinstance(other, Value) else Value(other)\n",
    "        out = Value(self.data + other.data, (self, other), '+')\n",
    "        \n",
    "        def _backward():\n",
    "            self.grad += 1.0 * out.grad\n",
    "            other.grad += 1.0 * out.grad\n",
    "        out._backward = _backward\n",
    "        return out\n",
    "\n",
    "    def __neg__(self):\n",
    "        return self * -1\n",
    "\n",
    "    def __sub__(self, other):\n",
    "        return self + (-other)\n",
    "\n",
    "    def __pow__(self, other):\n",
    "        assert isinstance(other, (int, float)), \"only supproting int or float powers\"\n",
    "        out = Value(self.data ** other, (self, ), f'**{other}')\n",
    "\n",
    "        def _backward():\n",
    "            self.grad += other * self.data ** (other - 1) * out.grad\n",
    "        out._backward = _backward\n",
    "        \n",
    "        return out\n",
    "\n",
    "\n",
    "    def __rmul__(self, other): # other * self\n",
    "        return self * other\n",
    "\n",
    "    def __mul__(self, other):\n",
    "        other = other if isinstance(other, Value) else Value(other)\n",
    "        out = Value(self.data * other.data, (self, other), '*')\n",
    "        def _backward():\n",
    "            self.grad += other.data * out.grad\n",
    "            other.grad += self.data * out.grad \n",
    "        out._backward = _backward\n",
    "        return out\n",
    "\n",
    "    def __truediv__(self, other): # self / other\n",
    "        return self * other ** -1\n",
    "\n",
    "\n",
    "    def tanh(self):\n",
    "        x = self.data\n",
    "        t = (math.exp(2*x) - 1) / (math.exp(2*x) + 1)\n",
    "        out = Value(t, (self, ), 'tanh')\n",
    "        def _backword():\n",
    "            self.grad = (1 - t**2) * out.grad\n",
    "        out._backward = _backword\n",
    "        return out\n",
    "\n",
    "    def exp(self):\n",
    "        x = self.data\n",
    "        out = Value(math.exp(x), (self, ), 'exp')\n",
    "        def _backward():\n",
    "            self.grad += math.exp(x) * out.grad\n",
    "        out._backward = _backward\n",
    "        return out\n",
    "\n",
    "    def backward(self):\n",
    "\n",
    "        topo = []\n",
    "        visited = set()\n",
    "        def build_topo(v):\n",
    "            if v not in visited:\n",
    "                visited.add(v)\n",
    "                for child in v._prev:\n",
    "                    build_topo(child)\n",
    "                topo.append(v)\n",
    "        build_topo(self)\n",
    "\n",
    "        self.grad = 1.0\n",
    "        for node in reversed(topo):\n",
    "            node._backward()\n"
   ]
  },
  {
   "cell_type": "code",
   "execution_count": 161,
   "metadata": {},
   "outputs": [
    {
     "data": {
      "text/plain": [
       "Value(data=0.5)"
      ]
     },
     "execution_count": 161,
     "metadata": {},
     "output_type": "execute_result"
    }
   ],
   "source": [
    "a = Value(1.0, label='a')\n",
    "b = Value(2.0, label='b')\n",
    "a /b "
   ]
  },
  {
   "cell_type": "code",
   "execution_count": 38,
   "metadata": {},
   "outputs": [
    {
     "data": {
      "text/plain": [
       "Value(data=-8.0)"
      ]
     },
     "execution_count": 38,
     "metadata": {},
     "output_type": "execute_result"
    }
   ],
   "source": [
    "a = Value(2.0, label='a')\n",
    "b = Value(-3.0, label='b')\n",
    "c = Value(10.0, label='c')\n",
    "e = a * b; e.label = 'e'\n",
    "d = e + c; d.label= 'd' \n",
    "f = Value(-2.0, label='f')\n",
    "L = d *f; L.label=\"L\"\n",
    "L"
   ]
  },
  {
   "cell_type": "code",
   "execution_count": 140,
   "metadata": {},
   "outputs": [],
   "source": [
    "from graphviz import Digraph\n",
    "\n",
    "\n",
    "def trace(root):\n",
    "    nodes, edges = set(), set()\n",
    "    def build(v):\n",
    "        if v not in nodes:\n",
    "            nodes.add(v)\n",
    "            for child in v._prev:\n",
    "                edges.add((child, v))\n",
    "                build(child)\n",
    "    build(root)\n",
    "    return nodes, edges\n",
    "\n",
    "def draw_dot(root):\n",
    "    dot = Digraph(format='svg', graph_attr={'rankdir': 'LR'}) # LR = left to right\n",
    "\n",
    "    nodes, edges = trace(root)\n",
    "    for n in nodes:\n",
    "        uid = str(id(n))\n",
    "        # for any value in the graph, creat a rectangular ('node') for it\n",
    "        dot.node(name=uid, label=\"{ %s | data %.4f | grad %.4f }\" % (n.label, n.data, n.grad), shape='record')\n",
    "        if n._op:\n",
    "            dot.node(name = uid + n._op, label= n._op )\n",
    "            dot.edge(uid + n._op, uid)\n",
    "    \n",
    "    for n1, n2 in edges:\n",
    "        dot.edge(str(id(n1)), str(id(n2)) + n2._op)\n",
    "    \n",
    "    return dot\n"
   ]
  },
  {
   "cell_type": "code",
   "execution_count": 86,
   "metadata": {},
   "outputs": [
    {
     "data": {
      "image/svg+xml": "<?xml version=\"1.0\" encoding=\"UTF-8\" standalone=\"no\"?>\n<!DOCTYPE svg PUBLIC \"-//W3C//DTD SVG 1.1//EN\"\n \"http://www.w3.org/Graphics/SVG/1.1/DTD/svg11.dtd\">\n<!-- Generated by graphviz version 7.0.0 (20221023.0053)\n -->\n<!-- Pages: 1 -->\n<svg width=\"1151pt\" height=\"156pt\"\n viewBox=\"0.00 0.00 1151.00 156.00\" xmlns=\"http://www.w3.org/2000/svg\" xmlns:xlink=\"http://www.w3.org/1999/xlink\">\n<g id=\"graph0\" class=\"graph\" transform=\"scale(1 1) rotate(0) translate(4 152)\">\n<polygon fill=\"white\" stroke=\"none\" points=\"-4,4 -4,-152 1147,-152 1147,4 -4,4\"/>\n<!-- 4467302800 -->\n<g id=\"node1\" class=\"node\">\n<title>4467302800</title>\n<polygon fill=\"none\" stroke=\"black\" points=\"4.5,-111.5 4.5,-147.5 189.5,-147.5 189.5,-111.5 4.5,-111.5\"/>\n<text text-anchor=\"middle\" x=\"16\" y=\"-125.8\" font-family=\"Times,serif\" font-size=\"14.00\">a</text>\n<polyline fill=\"none\" stroke=\"black\" points=\"27.5,-111.5 27.5,-147.5\"/>\n<text text-anchor=\"middle\" x=\"67.5\" y=\"-125.8\" font-family=\"Times,serif\" font-size=\"14.00\">data 2.0600</text>\n<polyline fill=\"none\" stroke=\"black\" points=\"107.5,-111.5 107.5,-147.5\"/>\n<text text-anchor=\"middle\" x=\"148.5\" y=\"-125.8\" font-family=\"Times,serif\" font-size=\"14.00\">grad 6.0000</text>\n</g>\n<!-- 4467432368* -->\n<g id=\"node9\" class=\"node\">\n<title>4467432368*</title>\n<ellipse fill=\"none\" stroke=\"black\" cx=\"257\" cy=\"-101.5\" rx=\"27\" ry=\"18\"/>\n<text text-anchor=\"middle\" x=\"257\" y=\"-97.8\" font-family=\"Times,serif\" font-size=\"14.00\">*</text>\n</g>\n<!-- 4467302800&#45;&gt;4467432368* -->\n<g id=\"edge8\" class=\"edge\">\n<title>4467302800&#45;&gt;4467432368*</title>\n<path fill=\"none\" stroke=\"black\" d=\"M189.45,-113.29C199.89,-111.44 210.03,-109.65 219.12,-108.04\"/>\n<polygon fill=\"black\" stroke=\"black\" points=\"219.68,-111.49 228.91,-106.3 218.46,-104.6 219.68,-111.49\"/>\n</g>\n<!-- 4467213120 -->\n<g id=\"node2\" class=\"node\">\n<title>4467213120</title>\n<polygon fill=\"none\" stroke=\"black\" points=\"645,-55.5 645,-91.5 827,-91.5 827,-55.5 645,-55.5\"/>\n<text text-anchor=\"middle\" x=\"655\" y=\"-69.8\" font-family=\"Times,serif\" font-size=\"14.00\"> </text>\n<polyline fill=\"none\" stroke=\"black\" points=\"665,-55.5 665,-91.5\"/>\n<text text-anchor=\"middle\" x=\"705\" y=\"-69.8\" font-family=\"Times,serif\" font-size=\"14.00\">data 3.8200</text>\n<polyline fill=\"none\" stroke=\"black\" points=\"745,-55.5 745,-91.5\"/>\n<text text-anchor=\"middle\" x=\"786\" y=\"-69.8\" font-family=\"Times,serif\" font-size=\"14.00\">grad 0.0000</text>\n</g>\n<!-- 4467433328* -->\n<g id=\"node6\" class=\"node\">\n<title>4467433328*</title>\n<ellipse fill=\"none\" stroke=\"black\" cx=\"893\" cy=\"-45.5\" rx=\"27\" ry=\"18\"/>\n<text text-anchor=\"middle\" x=\"893\" y=\"-41.8\" font-family=\"Times,serif\" font-size=\"14.00\">*</text>\n</g>\n<!-- 4467213120&#45;&gt;4467433328* -->\n<g id=\"edge9\" class=\"edge\">\n<title>4467213120&#45;&gt;4467433328*</title>\n<path fill=\"none\" stroke=\"black\" d=\"M826.72,-57.29C836.75,-55.48 846.5,-53.72 855.28,-52.13\"/>\n<polygon fill=\"black\" stroke=\"black\" points=\"855.87,-55.58 865.09,-50.36 854.63,-48.69 855.87,-55.58\"/>\n</g>\n<!-- 4467213120+ -->\n<g id=\"node3\" class=\"node\">\n<title>4467213120+</title>\n<ellipse fill=\"none\" stroke=\"black\" cx=\"579\" cy=\"-73.5\" rx=\"27\" ry=\"18\"/>\n<text text-anchor=\"middle\" x=\"579\" y=\"-69.8\" font-family=\"Times,serif\" font-size=\"14.00\">+</text>\n</g>\n<!-- 4467213120+&#45;&gt;4467213120 -->\n<g id=\"edge1\" class=\"edge\">\n<title>4467213120+&#45;&gt;4467213120</title>\n<path fill=\"none\" stroke=\"black\" d=\"M606.29,-73.5C614.33,-73.5 623.69,-73.5 633.63,-73.5\"/>\n<polygon fill=\"black\" stroke=\"black\" points=\"633.55,-77 643.55,-73.5 633.55,-70 633.55,-77\"/>\n</g>\n<!-- 4467363168 -->\n<g id=\"node4\" class=\"node\">\n<title>4467363168</title>\n<polygon fill=\"none\" stroke=\"black\" points=\"642,-0.5 642,-36.5 830,-36.5 830,-0.5 642,-0.5\"/>\n<text text-anchor=\"middle\" x=\"652.5\" y=\"-14.8\" font-family=\"Times,serif\" font-size=\"14.00\">f</text>\n<polyline fill=\"none\" stroke=\"black\" points=\"663,-0.5 663,-36.5\"/>\n<text text-anchor=\"middle\" x=\"705.5\" y=\"-14.8\" font-family=\"Times,serif\" font-size=\"14.00\">data &#45;1.9600</text>\n<polyline fill=\"none\" stroke=\"black\" points=\"748,-0.5 748,-36.5\"/>\n<text text-anchor=\"middle\" x=\"789\" y=\"-14.8\" font-family=\"Times,serif\" font-size=\"14.00\">grad 4.0000</text>\n</g>\n<!-- 4467363168&#45;&gt;4467433328* -->\n<g id=\"edge7\" class=\"edge\">\n<title>4467363168&#45;&gt;4467433328*</title>\n<path fill=\"none\" stroke=\"black\" d=\"M829.85,-34.67C838.75,-36.22 847.38,-37.73 855.22,-39.09\"/>\n<polygon fill=\"black\" stroke=\"black\" points=\"854.53,-42.53 864.98,-40.79 855.73,-35.63 854.53,-42.53\"/>\n</g>\n<!-- 4467433328 -->\n<g id=\"node5\" class=\"node\">\n<title>4467433328</title>\n<polygon fill=\"none\" stroke=\"black\" points=\"956,-27.5 956,-63.5 1143,-63.5 1143,-27.5 956,-27.5\"/>\n<text text-anchor=\"middle\" x=\"966\" y=\"-41.8\" font-family=\"Times,serif\" font-size=\"14.00\"> </text>\n<polyline fill=\"none\" stroke=\"black\" points=\"976,-27.5 976,-63.5\"/>\n<text text-anchor=\"middle\" x=\"1018.5\" y=\"-41.8\" font-family=\"Times,serif\" font-size=\"14.00\">data &#45;7.4872</text>\n<polyline fill=\"none\" stroke=\"black\" points=\"1061,-27.5 1061,-63.5\"/>\n<text text-anchor=\"middle\" x=\"1102\" y=\"-41.8\" font-family=\"Times,serif\" font-size=\"14.00\">grad 0.0000</text>\n</g>\n<!-- 4467433328*&#45;&gt;4467433328 -->\n<g id=\"edge2\" class=\"edge\">\n<title>4467433328*&#45;&gt;4467433328</title>\n<path fill=\"none\" stroke=\"black\" d=\"M920.21,-45.5C927.47,-45.5 935.83,-45.5 944.71,-45.5\"/>\n<polygon fill=\"black\" stroke=\"black\" points=\"944.7,-49 954.7,-45.5 944.7,-42 944.7,-49\"/>\n</g>\n<!-- 4467304336 -->\n<g id=\"node7\" class=\"node\">\n<title>4467304336</title>\n<polygon fill=\"none\" stroke=\"black\" points=\"320,-28.5 320,-64.5 516,-64.5 516,-28.5 320,-28.5\"/>\n<text text-anchor=\"middle\" x=\"331.5\" y=\"-42.8\" font-family=\"Times,serif\" font-size=\"14.00\">c</text>\n<polyline fill=\"none\" stroke=\"black\" points=\"343,-28.5 343,-64.5\"/>\n<text text-anchor=\"middle\" x=\"386.5\" y=\"-42.8\" font-family=\"Times,serif\" font-size=\"14.00\">data 10.0000</text>\n<polyline fill=\"none\" stroke=\"black\" points=\"430,-28.5 430,-64.5\"/>\n<text text-anchor=\"middle\" x=\"473\" y=\"-42.8\" font-family=\"Times,serif\" font-size=\"14.00\">grad &#45;2.0000</text>\n</g>\n<!-- 4467304336&#45;&gt;4467213120+ -->\n<g id=\"edge5\" class=\"edge\">\n<title>4467304336&#45;&gt;4467213120+</title>\n<path fill=\"none\" stroke=\"black\" d=\"M515.62,-62.91C524.6,-64.43 533.27,-65.9 541.15,-67.24\"/>\n<polygon fill=\"black\" stroke=\"black\" points=\"540.51,-70.68 550.95,-68.91 541.68,-63.78 540.51,-70.68\"/>\n</g>\n<!-- 4467432368 -->\n<g id=\"node8\" class=\"node\">\n<title>4467432368</title>\n<polygon fill=\"none\" stroke=\"black\" points=\"324.5,-83.5 324.5,-119.5 511.5,-119.5 511.5,-83.5 324.5,-83.5\"/>\n<text text-anchor=\"middle\" x=\"334.5\" y=\"-97.8\" font-family=\"Times,serif\" font-size=\"14.00\"> </text>\n<polyline fill=\"none\" stroke=\"black\" points=\"344.5,-83.5 344.5,-119.5\"/>\n<text text-anchor=\"middle\" x=\"387\" y=\"-97.8\" font-family=\"Times,serif\" font-size=\"14.00\">data &#45;6.1800</text>\n<polyline fill=\"none\" stroke=\"black\" points=\"429.5,-83.5 429.5,-119.5\"/>\n<text text-anchor=\"middle\" x=\"470.5\" y=\"-97.8\" font-family=\"Times,serif\" font-size=\"14.00\">grad 0.0000</text>\n</g>\n<!-- 4467432368&#45;&gt;4467213120+ -->\n<g id=\"edge4\" class=\"edge\">\n<title>4467432368&#45;&gt;4467213120+</title>\n<path fill=\"none\" stroke=\"black\" d=\"M511.49,-85.21C521.94,-83.37 532.08,-81.59 541.17,-79.99\"/>\n<polygon fill=\"black\" stroke=\"black\" points=\"541.71,-83.44 550.95,-78.26 540.5,-76.55 541.71,-83.44\"/>\n</g>\n<!-- 4467432368*&#45;&gt;4467432368 -->\n<g id=\"edge3\" class=\"edge\">\n<title>4467432368*&#45;&gt;4467432368</title>\n<path fill=\"none\" stroke=\"black\" d=\"M284.26,-101.5C292.77,-101.5 302.78,-101.5 313.44,-101.5\"/>\n<polygon fill=\"black\" stroke=\"black\" points=\"313.22,-105 323.22,-101.5 313.22,-98 313.22,-105\"/>\n</g>\n<!-- 4467304384 -->\n<g id=\"node10\" class=\"node\">\n<title>4467304384</title>\n<polygon fill=\"none\" stroke=\"black\" points=\"0,-56.5 0,-92.5 194,-92.5 194,-56.5 0,-56.5\"/>\n<text text-anchor=\"middle\" x=\"11.5\" y=\"-70.8\" font-family=\"Times,serif\" font-size=\"14.00\">b</text>\n<polyline fill=\"none\" stroke=\"black\" points=\"23,-56.5 23,-92.5\"/>\n<text text-anchor=\"middle\" x=\"65.5\" y=\"-70.8\" font-family=\"Times,serif\" font-size=\"14.00\">data &#45;3.0000</text>\n<polyline fill=\"none\" stroke=\"black\" points=\"108,-56.5 108,-92.5\"/>\n<text text-anchor=\"middle\" x=\"151\" y=\"-70.8\" font-family=\"Times,serif\" font-size=\"14.00\">grad &#45;4.0000</text>\n</g>\n<!-- 4467304384&#45;&gt;4467432368* -->\n<g id=\"edge6\" class=\"edge\">\n<title>4467304384&#45;&gt;4467432368*</title>\n<path fill=\"none\" stroke=\"black\" d=\"M193.55,-90.83C202.53,-92.36 211.21,-93.85 219.1,-95.19\"/>\n<polygon fill=\"black\" stroke=\"black\" points=\"218.46,-98.63 228.9,-96.87 219.64,-91.73 218.46,-98.63\"/>\n</g>\n</g>\n</svg>\n",
      "text/plain": [
       "<graphviz.graphs.Digraph at 0x1286a23d0>"
      ]
     },
     "execution_count": 86,
     "metadata": {},
     "output_type": "execute_result"
    }
   ],
   "source": [
    "draw_dot(L)"
   ]
  },
  {
   "cell_type": "code",
   "execution_count": 70,
   "metadata": {},
   "outputs": [
    {
     "data": {
      "text/plain": [
       "Value(data=-7.4872000000000005)"
      ]
     },
     "execution_count": 70,
     "metadata": {},
     "output_type": "execute_result"
    }
   ],
   "source": [
    "a.data += 0.01 * a.grad\n",
    "f.data += 0.01 * f.grad\n",
    "\n",
    "e = a * b\n",
    "d = e + c\n",
    "L = d *f\n",
    "L"
   ]
  },
  {
   "cell_type": "code",
   "execution_count": 47,
   "metadata": {},
   "outputs": [],
   "source": [
    "L.grad = 1.0"
   ]
  },
  {
   "cell_type": "code",
   "execution_count": 71,
   "metadata": {},
   "outputs": [
    {
     "name": "stdout",
     "output_type": "stream",
     "text": [
      "6.000000000021544\n"
     ]
    }
   ],
   "source": [
    "def lol():\n",
    "    h = 0.0001\n",
    "\n",
    "    a = Value(2.0, label='a')\n",
    "    b = Value(-3.0, label='b')\n",
    "    c = Value(10.0, label='c')\n",
    "    e = a * b; e.label = 'e'\n",
    "    d = e + c; d.label= 'd' \n",
    "    f = Value(-2.0, label='f')\n",
    "    L = d *f; L.label=\"L\"\n",
    "    L1 = L.data\n",
    "\n",
    "    a = Value(2.0+ h, label='a')\n",
    "    b = Value(-3.0, label='b')\n",
    "    c = Value(10.0, label='c')\n",
    "    e = a * b; e.label = 'e'\n",
    "    d = e + c ; d.label= 'd'\n",
    "    f = Value(-2.0, label='f')\n",
    "    L = d *f; L.label=\"L\"\n",
    "    L2 = L.data\n",
    "\n",
    "    print((L2-L1)/h)\n",
    "\n",
    "lol()"
   ]
  },
  {
   "cell_type": "code",
   "execution_count": 78,
   "metadata": {},
   "outputs": [
    {
     "data": {
      "image/png": "[encoded data removed]",
      "text/plain": [
       "<Figure size 640x480 with 1 Axes>"
      ]
     },
     "metadata": {},
     "output_type": "display_data"
    }
   ],
   "source": [
    "plt.plot(np.arange(-5, 5, 0.2), np.tanh(np.arange(-5,5,0.2))); plt.grid();"
   ]
  },
  {
   "cell_type": "code",
   "execution_count": 141,
   "metadata": {},
   "outputs": [],
   "source": [
    "# input x1, x2\n",
    "x1 = Value(2.0, label=\"x1\")\n",
    "x2 = Value(0.0, label=\"x2\")\n",
    "\n",
    "# weights w1, w2\n",
    "w1 = Value(-3.0, label=\"w1\")\n",
    "w2 = Value(1.0, label=\"w2\")\n",
    "# bias\n",
    "b = Value(6.881, label=\"b\")\n",
    "\n",
    "# x1 * w1 + x2 * w2 + b\n",
    "x1w1 = x1 * w1; x1w1.label=\"x1w1\"\n",
    "x2w2 = x2 * w2; x2w2.label=\"x2w2\"\n",
    "x1w1x2w2 = x1w1 + x2w2; x1w1x2w2.label=\"x1w1 + x2w2\"\n",
    "n = x1w1x2w2 + b; n.label=\"n\"\n",
    "o = n.tanh(); o.label=\"o\"\n"
   ]
  },
  {
   "cell_type": "code",
   "execution_count": 144,
   "metadata": {},
   "outputs": [
    {
     "data": {
      "image/svg+xml": "<?xml version=\"1.0\" encoding=\"UTF-8\" standalone=\"no\"?>\n<!DOCTYPE svg PUBLIC \"-//W3C//DTD SVG 1.1//EN\"\n \"http://www.w3.org/Graphics/SVG/1.1/DTD/svg11.dtd\">\n<!-- Generated by graphviz version 7.0.0 (20221023.0053)\n -->\n<!-- Pages: 1 -->\n<svg width=\"1555pt\" height=\"210pt\"\n viewBox=\"0.00 0.00 1555.00 210.00\" xmlns=\"http://www.w3.org/2000/svg\" xmlns:xlink=\"http://www.w3.org/1999/xlink\">\n<g id=\"graph0\" class=\"graph\" transform=\"scale(1 1) rotate(0) translate(4 206)\">\n<polygon fill=\"white\" stroke=\"none\" points=\"-4,4 -4,-206 1551,-206 1551,4 -4,4\"/>\n<!-- 4972879392 -->\n<g id=\"node1\" class=\"node\">\n<title>4972879392</title>\n<polygon fill=\"none\" stroke=\"black\" points=\"703,-137.5 703,-173.5 888,-173.5 888,-137.5 703,-137.5\"/>\n<text text-anchor=\"middle\" x=\"714.5\" y=\"-151.8\" font-family=\"Times,serif\" font-size=\"14.00\">b</text>\n<polyline fill=\"none\" stroke=\"black\" points=\"726,-137.5 726,-173.5\"/>\n<text text-anchor=\"middle\" x=\"766\" y=\"-151.8\" font-family=\"Times,serif\" font-size=\"14.00\">data 6.8810</text>\n<polyline fill=\"none\" stroke=\"black\" points=\"806,-137.5 806,-173.5\"/>\n<text text-anchor=\"middle\" x=\"847\" y=\"-151.8\" font-family=\"Times,serif\" font-size=\"14.00\">grad 0.5003</text>\n</g>\n<!-- 4972990272+ -->\n<g id=\"node12\" class=\"node\">\n<title>4972990272+</title>\n<ellipse fill=\"none\" stroke=\"black\" cx=\"988\" cy=\"-127.5\" rx=\"27\" ry=\"18\"/>\n<text text-anchor=\"middle\" x=\"988\" y=\"-123.8\" font-family=\"Times,serif\" font-size=\"14.00\">+</text>\n</g>\n<!-- 4972879392&#45;&gt;4972990272+ -->\n<g id=\"edge7\" class=\"edge\">\n<title>4972879392&#45;&gt;4972990272+</title>\n<path fill=\"none\" stroke=\"black\" d=\"M887.84,-142.07C909.83,-138.84 932.09,-135.57 949.94,-132.95\"/>\n<polygon fill=\"black\" stroke=\"black\" points=\"950.37,-136.42 959.75,-131.5 949.35,-129.5 950.37,-136.42\"/>\n</g>\n<!-- 4972876848 -->\n<g id=\"node2\" class=\"node\">\n<title>4972876848</title>\n<polygon fill=\"none\" stroke=\"black\" points=\"2,-55.5 2,-91.5 198,-91.5 198,-55.5 2,-55.5\"/>\n<text text-anchor=\"middle\" x=\"17\" y=\"-69.8\" font-family=\"Times,serif\" font-size=\"14.00\">x1</text>\n<polyline fill=\"none\" stroke=\"black\" points=\"32,-55.5 32,-91.5\"/>\n<text text-anchor=\"middle\" x=\"72\" y=\"-69.8\" font-family=\"Times,serif\" font-size=\"14.00\">data 2.0000</text>\n<polyline fill=\"none\" stroke=\"black\" points=\"112,-55.5 112,-91.5\"/>\n<text text-anchor=\"middle\" x=\"155\" y=\"-69.8\" font-family=\"Times,serif\" font-size=\"14.00\">grad &#45;1.5008</text>\n</g>\n<!-- 4972879680* -->\n<g id=\"node14\" class=\"node\">\n<title>4972879680*</title>\n<ellipse fill=\"none\" stroke=\"black\" cx=\"263\" cy=\"-73.5\" rx=\"27\" ry=\"18\"/>\n<text text-anchor=\"middle\" x=\"263\" y=\"-69.8\" font-family=\"Times,serif\" font-size=\"14.00\">*</text>\n</g>\n<!-- 4972876848&#45;&gt;4972879680* -->\n<g id=\"edge12\" class=\"edge\">\n<title>4972876848&#45;&gt;4972879680*</title>\n<path fill=\"none\" stroke=\"black\" d=\"M197.91,-73.5C207.21,-73.5 216.21,-73.5 224.38,-73.5\"/>\n<polygon fill=\"black\" stroke=\"black\" points=\"224.18,-77 234.18,-73.5 224.18,-70 224.18,-77\"/>\n</g>\n<!-- 4972989552 -->\n<g id=\"node3\" class=\"node\">\n<title>4972989552</title>\n<polygon fill=\"none\" stroke=\"black\" points=\"1362,-109.5 1362,-145.5 1547,-145.5 1547,-109.5 1362,-109.5\"/>\n<text text-anchor=\"middle\" x=\"1373.5\" y=\"-123.8\" font-family=\"Times,serif\" font-size=\"14.00\">o</text>\n<polyline fill=\"none\" stroke=\"black\" points=\"1385,-109.5 1385,-145.5\"/>\n<text text-anchor=\"middle\" x=\"1425\" y=\"-123.8\" font-family=\"Times,serif\" font-size=\"14.00\">data 0.7069</text>\n<polyline fill=\"none\" stroke=\"black\" points=\"1465,-109.5 1465,-145.5\"/>\n<text text-anchor=\"middle\" x=\"1506\" y=\"-123.8\" font-family=\"Times,serif\" font-size=\"14.00\">grad 1.0000</text>\n</g>\n<!-- 4972989552tanh -->\n<g id=\"node4\" class=\"node\">\n<title>4972989552tanh</title>\n<ellipse fill=\"none\" stroke=\"black\" cx=\"1299\" cy=\"-127.5\" rx=\"27\" ry=\"18\"/>\n<text text-anchor=\"middle\" x=\"1299\" y=\"-123.8\" font-family=\"Times,serif\" font-size=\"14.00\">tanh</text>\n</g>\n<!-- 4972989552tanh&#45;&gt;4972989552 -->\n<g id=\"edge1\" class=\"edge\">\n<title>4972989552tanh&#45;&gt;4972989552</title>\n<path fill=\"none\" stroke=\"black\" d=\"M1326.39,-127.5C1333.62,-127.5 1341.92,-127.5 1350.74,-127.5\"/>\n<polygon fill=\"black\" stroke=\"black\" points=\"1350.64,-131 1360.64,-127.5 1350.64,-124 1350.64,-131\"/>\n</g>\n<!-- 4972879008 -->\n<g id=\"node5\" class=\"node\">\n<title>4972879008</title>\n<polygon fill=\"none\" stroke=\"black\" points=\"4,-165.5 4,-201.5 196,-201.5 196,-165.5 4,-165.5\"/>\n<text text-anchor=\"middle\" x=\"19\" y=\"-179.8\" font-family=\"Times,serif\" font-size=\"14.00\">x2</text>\n<polyline fill=\"none\" stroke=\"black\" points=\"34,-165.5 34,-201.5\"/>\n<text text-anchor=\"middle\" x=\"74\" y=\"-179.8\" font-family=\"Times,serif\" font-size=\"14.00\">data 0.0000</text>\n<polyline fill=\"none\" stroke=\"black\" points=\"114,-165.5 114,-201.5\"/>\n<text text-anchor=\"middle\" x=\"155\" y=\"-179.8\" font-family=\"Times,serif\" font-size=\"14.00\">grad 0.5003</text>\n</g>\n<!-- 4972988160* -->\n<g id=\"node9\" class=\"node\">\n<title>4972988160*</title>\n<ellipse fill=\"none\" stroke=\"black\" cx=\"263\" cy=\"-128.5\" rx=\"27\" ry=\"18\"/>\n<text text-anchor=\"middle\" x=\"263\" y=\"-124.8\" font-family=\"Times,serif\" font-size=\"14.00\">*</text>\n</g>\n<!-- 4972879008&#45;&gt;4972988160* -->\n<g id=\"edge6\" class=\"edge\">\n<title>4972879008&#45;&gt;4972988160*</title>\n<path fill=\"none\" stroke=\"black\" d=\"M172.27,-165.52C181.67,-162.72 191.12,-159.7 200,-156.5 210.09,-152.87 220.83,-148.29 230.48,-143.89\"/>\n<polygon fill=\"black\" stroke=\"black\" points=\"231.87,-147.11 239.45,-139.71 228.91,-140.76 231.87,-147.11\"/>\n</g>\n<!-- 4972989696 -->\n<g id=\"node6\" class=\"node\">\n<title>4972989696</title>\n<polygon fill=\"none\" stroke=\"black\" points=\"666,-82.5 666,-118.5 925,-118.5 925,-82.5 666,-82.5\"/>\n<text text-anchor=\"middle\" x=\"712\" y=\"-96.8\" font-family=\"Times,serif\" font-size=\"14.00\">x1w1 + x2w2</text>\n<polyline fill=\"none\" stroke=\"black\" points=\"758,-82.5 758,-118.5\"/>\n<text text-anchor=\"middle\" x=\"800.5\" y=\"-96.8\" font-family=\"Times,serif\" font-size=\"14.00\">data &#45;6.0000</text>\n<polyline fill=\"none\" stroke=\"black\" points=\"843,-82.5 843,-118.5\"/>\n<text text-anchor=\"middle\" x=\"884\" y=\"-96.8\" font-family=\"Times,serif\" font-size=\"14.00\">grad 0.5003</text>\n</g>\n<!-- 4972989696&#45;&gt;4972990272+ -->\n<g id=\"edge14\" class=\"edge\">\n<title>4972989696&#45;&gt;4972990272+</title>\n<path fill=\"none\" stroke=\"black\" d=\"M923.3,-118.47C932.78,-119.82 941.79,-121.09 949.89,-122.24\"/>\n<polygon fill=\"black\" stroke=\"black\" points=\"949.17,-125.67 959.56,-123.61 950.15,-118.74 949.17,-125.67\"/>\n</g>\n<!-- 4972989696+ -->\n<g id=\"node7\" class=\"node\">\n<title>4972989696+</title>\n<ellipse fill=\"none\" stroke=\"black\" cx=\"603\" cy=\"-100.5\" rx=\"27\" ry=\"18\"/>\n<text text-anchor=\"middle\" x=\"603\" y=\"-96.8\" font-family=\"Times,serif\" font-size=\"14.00\">+</text>\n</g>\n<!-- 4972989696+&#45;&gt;4972989696 -->\n<g id=\"edge2\" class=\"edge\">\n<title>4972989696+&#45;&gt;4972989696</title>\n<path fill=\"none\" stroke=\"black\" d=\"M630.49,-100.5C637.68,-100.5 646,-100.5 654.99,-100.5\"/>\n<polygon fill=\"black\" stroke=\"black\" points=\"654.76,-104 664.76,-100.5 654.76,-97 654.76,-104\"/>\n</g>\n<!-- 4972988160 -->\n<g id=\"node8\" class=\"node\">\n<title>4972988160</title>\n<polygon fill=\"none\" stroke=\"black\" points=\"328.5,-110.5 328.5,-146.5 537.5,-146.5 537.5,-110.5 328.5,-110.5\"/>\n<text text-anchor=\"middle\" x=\"352\" y=\"-124.8\" font-family=\"Times,serif\" font-size=\"14.00\">x2w2</text>\n<polyline fill=\"none\" stroke=\"black\" points=\"375.5,-110.5 375.5,-146.5\"/>\n<text text-anchor=\"middle\" x=\"415.5\" y=\"-124.8\" font-family=\"Times,serif\" font-size=\"14.00\">data 0.0000</text>\n<polyline fill=\"none\" stroke=\"black\" points=\"455.5,-110.5 455.5,-146.5\"/>\n<text text-anchor=\"middle\" x=\"496.5\" y=\"-124.8\" font-family=\"Times,serif\" font-size=\"14.00\">grad 0.5003</text>\n</g>\n<!-- 4972988160&#45;&gt;4972989696+ -->\n<g id=\"edge8\" class=\"edge\">\n<title>4972988160&#45;&gt;4972989696+</title>\n<path fill=\"none\" stroke=\"black\" d=\"M537.05,-111.33C547.04,-109.66 556.65,-108.06 565.28,-106.62\"/>\n<polygon fill=\"black\" stroke=\"black\" points=\"565.59,-110.12 574.88,-105.02 564.44,-103.21 565.59,-110.12\"/>\n</g>\n<!-- 4972988160*&#45;&gt;4972988160 -->\n<g id=\"edge3\" class=\"edge\">\n<title>4972988160*&#45;&gt;4972988160</title>\n<path fill=\"none\" stroke=\"black\" d=\"M290.25,-128.5C298.16,-128.5 307.4,-128.5 317.3,-128.5\"/>\n<polygon fill=\"black\" stroke=\"black\" points=\"317.2,-132 327.2,-128.5 317.2,-125 317.2,-132\"/>\n</g>\n<!-- 4972878624 -->\n<g id=\"node10\" class=\"node\">\n<title>4972878624</title>\n<polygon fill=\"none\" stroke=\"black\" points=\"0,-0.5 0,-36.5 200,-36.5 200,-0.5 0,-0.5\"/>\n<text text-anchor=\"middle\" x=\"16.5\" y=\"-14.8\" font-family=\"Times,serif\" font-size=\"14.00\">w1</text>\n<polyline fill=\"none\" stroke=\"black\" points=\"33,-0.5 33,-36.5\"/>\n<text text-anchor=\"middle\" x=\"75.5\" y=\"-14.8\" font-family=\"Times,serif\" font-size=\"14.00\">data &#45;3.0000</text>\n<polyline fill=\"none\" stroke=\"black\" points=\"118,-0.5 118,-36.5\"/>\n<text text-anchor=\"middle\" x=\"159\" y=\"-14.8\" font-family=\"Times,serif\" font-size=\"14.00\">grad 1.0005</text>\n</g>\n<!-- 4972878624&#45;&gt;4972879680* -->\n<g id=\"edge9\" class=\"edge\">\n<title>4972878624&#45;&gt;4972879680*</title>\n<path fill=\"none\" stroke=\"black\" d=\"M169.02,-36.42C179.47,-39.56 190.08,-42.95 200,-46.5 209.96,-50.06 220.59,-54.46 230.18,-58.66\"/>\n<polygon fill=\"black\" stroke=\"black\" points=\"228.54,-61.76 239.1,-62.66 231.4,-55.37 228.54,-61.76\"/>\n</g>\n<!-- 4972990272 -->\n<g id=\"node11\" class=\"node\">\n<title>4972990272</title>\n<polygon fill=\"none\" stroke=\"black\" points=\"1051,-109.5 1051,-145.5 1236,-145.5 1236,-109.5 1051,-109.5\"/>\n<text text-anchor=\"middle\" x=\"1062.5\" y=\"-123.8\" font-family=\"Times,serif\" font-size=\"14.00\">n</text>\n<polyline fill=\"none\" stroke=\"black\" points=\"1074,-109.5 1074,-145.5\"/>\n<text text-anchor=\"middle\" x=\"1114\" y=\"-123.8\" font-family=\"Times,serif\" font-size=\"14.00\">data 0.8810</text>\n<polyline fill=\"none\" stroke=\"black\" points=\"1154,-109.5 1154,-145.5\"/>\n<text text-anchor=\"middle\" x=\"1195\" y=\"-123.8\" font-family=\"Times,serif\" font-size=\"14.00\">grad 0.5003</text>\n</g>\n<!-- 4972990272&#45;&gt;4972989552tanh -->\n<g id=\"edge13\" class=\"edge\">\n<title>4972990272&#45;&gt;4972989552tanh</title>\n<path fill=\"none\" stroke=\"black\" d=\"M1235.57,-127.5C1244.21,-127.5 1252.6,-127.5 1260.28,-127.5\"/>\n<polygon fill=\"black\" stroke=\"black\" points=\"1260.19,-131 1270.19,-127.5 1260.19,-124 1260.19,-131\"/>\n</g>\n<!-- 4972990272+&#45;&gt;4972990272 -->\n<g id=\"edge4\" class=\"edge\">\n<title>4972990272+&#45;&gt;4972990272</title>\n<path fill=\"none\" stroke=\"black\" d=\"M1015.39,-127.5C1022.62,-127.5 1030.92,-127.5 1039.74,-127.5\"/>\n<polygon fill=\"black\" stroke=\"black\" points=\"1039.64,-131 1049.64,-127.5 1039.64,-124 1039.64,-131\"/>\n</g>\n<!-- 4972879680 -->\n<g id=\"node13\" class=\"node\">\n<title>4972879680</title>\n<polygon fill=\"none\" stroke=\"black\" points=\"326,-55.5 326,-91.5 540,-91.5 540,-55.5 326,-55.5\"/>\n<text text-anchor=\"middle\" x=\"349.5\" y=\"-69.8\" font-family=\"Times,serif\" font-size=\"14.00\">x1w1</text>\n<polyline fill=\"none\" stroke=\"black\" points=\"373,-55.5 373,-91.5\"/>\n<text text-anchor=\"middle\" x=\"415.5\" y=\"-69.8\" font-family=\"Times,serif\" font-size=\"14.00\">data &#45;6.0000</text>\n<polyline fill=\"none\" stroke=\"black\" points=\"458,-55.5 458,-91.5\"/>\n<text text-anchor=\"middle\" x=\"499\" y=\"-69.8\" font-family=\"Times,serif\" font-size=\"14.00\">grad 0.5003</text>\n</g>\n<!-- 4972879680&#45;&gt;4972989696+ -->\n<g id=\"edge11\" class=\"edge\">\n<title>4972879680&#45;&gt;4972989696+</title>\n<path fill=\"none\" stroke=\"black\" d=\"M539.92,-90.52C548.88,-91.96 557.49,-93.35 565.29,-94.6\"/>\n<polygon fill=\"black\" stroke=\"black\" points=\"564.52,-98.02 574.95,-96.15 565.63,-91.11 564.52,-98.02\"/>\n</g>\n<!-- 4972879680*&#45;&gt;4972879680 -->\n<g id=\"edge5\" class=\"edge\">\n<title>4972879680*&#45;&gt;4972879680</title>\n<path fill=\"none\" stroke=\"black\" d=\"M290.25,-73.5C297.53,-73.5 305.94,-73.5 314.95,-73.5\"/>\n<polygon fill=\"black\" stroke=\"black\" points=\"314.69,-77 324.69,-73.5 314.69,-70 314.69,-77\"/>\n</g>\n<!-- 4972879248 -->\n<g id=\"node15\" class=\"node\">\n<title>4972879248</title>\n<polygon fill=\"none\" stroke=\"black\" points=\"2.5,-110.5 2.5,-146.5 197.5,-146.5 197.5,-110.5 2.5,-110.5\"/>\n<text text-anchor=\"middle\" x=\"19\" y=\"-124.8\" font-family=\"Times,serif\" font-size=\"14.00\">w2</text>\n<polyline fill=\"none\" stroke=\"black\" points=\"35.5,-110.5 35.5,-146.5\"/>\n<text text-anchor=\"middle\" x=\"75.5\" y=\"-124.8\" font-family=\"Times,serif\" font-size=\"14.00\">data 1.0000</text>\n<polyline fill=\"none\" stroke=\"black\" points=\"115.5,-110.5 115.5,-146.5\"/>\n<text text-anchor=\"middle\" x=\"156.5\" y=\"-124.8\" font-family=\"Times,serif\" font-size=\"14.00\">grad 0.0000</text>\n</g>\n<!-- 4972879248&#45;&gt;4972988160* -->\n<g id=\"edge10\" class=\"edge\">\n<title>4972879248&#45;&gt;4972988160*</title>\n<path fill=\"none\" stroke=\"black\" d=\"M197.44,-128.5C206.89,-128.5 216.04,-128.5 224.32,-128.5\"/>\n<polygon fill=\"black\" stroke=\"black\" points=\"224.28,-132 234.28,-128.5 224.28,-125 224.28,-132\"/>\n</g>\n</g>\n</svg>\n",
      "text/plain": [
       "<graphviz.graphs.Digraph at 0x128681c70>"
      ]
     },
     "execution_count": 144,
     "metadata": {},
     "output_type": "execute_result"
    }
   ],
   "source": [
    "draw_dot(o)"
   ]
  },
  {
   "cell_type": "code",
   "execution_count": 143,
   "metadata": {},
   "outputs": [],
   "source": [
    "o.backward()"
   ]
  },
  {
   "cell_type": "code",
   "execution_count": 137,
   "metadata": {},
   "outputs": [],
   "source": [
    "o.grad = 1.0\n",
    "\n",
    "topo = []\n",
    "visited = set()\n",
    "def build_topo(v):\n",
    "    if v not in visited:\n",
    "        visited.add(v)\n",
    "        for child in v._prev:\n",
    "            build_topo(child)\n",
    "        topo.append(v)\n",
    "build_topo(o)\n",
    "\n",
    "for node in reversed(topo):\n",
    "    node._backward()\n"
   ]
  },
  {
   "cell_type": "code",
   "execution_count": 128,
   "metadata": {},
   "outputs": [],
   "source": [
    "topo = []\n",
    "visited = set()\n",
    "def build_topo(v):\n",
    "    if v not in visited:\n",
    "        visited.add(v)\n",
    "        for child in v._prev:\n",
    "            build_topo(child)\n",
    "        topo.append(v)\n",
    "build_topo(o)"
   ]
  },
  {
   "cell_type": "code",
   "execution_count": 165,
   "metadata": {},
   "outputs": [],
   "source": [
    "# input x1, x2\n",
    "x1 = Value(2.0, label=\"x1\")\n",
    "x2 = Value(0.0, label=\"x2\")\n",
    "\n",
    "# weights w1, w2\n",
    "w1 = Value(-3.0, label=\"w1\")\n",
    "w2 = Value(1.0, label=\"w2\")\n",
    "# bias\n",
    "b = Value(6.881, label=\"b\")\n",
    "\n",
    "# x1 * w1 + x2 * w2 + b\n",
    "x1w1 = x1 * w1; x1w1.label=\"x1w1\"\n",
    "x2w2 = x2 * w2; x2w2.label=\"x2w2\"\n",
    "x1w1x2w2 = x1w1 + x2w2; x1w1x2w2.label=\"x1w1 + x2w2\"\n",
    "\n",
    "n = x1w1x2w2 + b; n.label=\"n\"\n",
    "# ------\n",
    "\n",
    "e = (2 * n).exp()\n",
    "o = (e-1)/(e+1)\n",
    "o.label=\"o\"\n",
    "# ------\n",
    "\n",
    "o.backward()"
   ]
  },
  {
   "cell_type": "code",
   "execution_count": 166,
   "metadata": {},
   "outputs": [
    {
     "data": {
      "image/svg+xml": "<?xml version=\"1.0\" encoding=\"UTF-8\" standalone=\"no\"?>\n<!DOCTYPE svg PUBLIC \"-//W3C//DTD SVG 1.1//EN\"\n \"http://www.w3.org/Graphics/SVG/1.1/DTD/svg11.dtd\">\n<!-- Generated by graphviz version 7.0.0 (20221023.0053)\n -->\n<!-- Pages: 1 -->\n<svg width=\"2924pt\" height=\"236pt\"\n viewBox=\"0.00 0.00 2924.00 236.00\" xmlns=\"http://www.w3.org/2000/svg\" xmlns:xlink=\"http://www.w3.org/1999/xlink\">\n<g id=\"graph0\" class=\"graph\" transform=\"scale(1 1) rotate(0) translate(4 232)\">\n<polygon fill=\"white\" stroke=\"none\" points=\"-4,4 -4,-232 2920,-232 2920,4 -4,4\"/>\n<!-- 4975506960 -->\n<g id=\"node1\" class=\"node\">\n<title>4975506960</title>\n<polygon fill=\"none\" stroke=\"black\" points=\"666,-82.5 666,-118.5 925,-118.5 925,-82.5 666,-82.5\"/>\n<text text-anchor=\"middle\" x=\"712\" y=\"-96.8\" font-family=\"Times,serif\" font-size=\"14.00\">x1w1 + x2w2</text>\n<polyline fill=\"none\" stroke=\"black\" points=\"758,-82.5 758,-118.5\"/>\n<text text-anchor=\"middle\" x=\"800.5\" y=\"-96.8\" font-family=\"Times,serif\" font-size=\"14.00\">data &#45;6.0000</text>\n<polyline fill=\"none\" stroke=\"black\" points=\"843,-82.5 843,-118.5\"/>\n<text text-anchor=\"middle\" x=\"884\" y=\"-96.8\" font-family=\"Times,serif\" font-size=\"14.00\">grad 0.5003</text>\n</g>\n<!-- 4975507104+ -->\n<g id=\"node9\" class=\"node\">\n<title>4975507104+</title>\n<ellipse fill=\"none\" stroke=\"black\" cx=\"988\" cy=\"-127.5\" rx=\"27\" ry=\"18\"/>\n<text text-anchor=\"middle\" x=\"988\" y=\"-123.8\" font-family=\"Times,serif\" font-size=\"14.00\">+</text>\n</g>\n<!-- 4975506960&#45;&gt;4975507104+ -->\n<g id=\"edge18\" class=\"edge\">\n<title>4975506960&#45;&gt;4975507104+</title>\n<path fill=\"none\" stroke=\"black\" d=\"M923.3,-118.47C932.78,-119.82 941.79,-121.09 949.89,-122.24\"/>\n<polygon fill=\"black\" stroke=\"black\" points=\"949.17,-125.67 959.56,-123.61 950.15,-118.74 949.17,-125.67\"/>\n</g>\n<!-- 4975506960+ -->\n<g id=\"node2\" class=\"node\">\n<title>4975506960+</title>\n<ellipse fill=\"none\" stroke=\"black\" cx=\"603\" cy=\"-100.5\" rx=\"27\" ry=\"18\"/>\n<text text-anchor=\"middle\" x=\"603\" y=\"-96.8\" font-family=\"Times,serif\" font-size=\"14.00\">+</text>\n</g>\n<!-- 4975506960+&#45;&gt;4975506960 -->\n<g id=\"edge1\" class=\"edge\">\n<title>4975506960+&#45;&gt;4975506960</title>\n<path fill=\"none\" stroke=\"black\" d=\"M630.49,-100.5C637.68,-100.5 646,-100.5 654.99,-100.5\"/>\n<polygon fill=\"black\" stroke=\"black\" points=\"654.76,-104 664.76,-100.5 654.76,-97 654.76,-104\"/>\n</g>\n<!-- 4974422048 -->\n<g id=\"node3\" class=\"node\">\n<title>4974422048</title>\n<polygon fill=\"none\" stroke=\"black\" points=\"703,-137.5 703,-173.5 888,-173.5 888,-137.5 703,-137.5\"/>\n<text text-anchor=\"middle\" x=\"714.5\" y=\"-151.8\" font-family=\"Times,serif\" font-size=\"14.00\">b</text>\n<polyline fill=\"none\" stroke=\"black\" points=\"726,-137.5 726,-173.5\"/>\n<text text-anchor=\"middle\" x=\"766\" y=\"-151.8\" font-family=\"Times,serif\" font-size=\"14.00\">data 6.8810</text>\n<polyline fill=\"none\" stroke=\"black\" points=\"806,-137.5 806,-173.5\"/>\n<text text-anchor=\"middle\" x=\"847\" y=\"-151.8\" font-family=\"Times,serif\" font-size=\"14.00\">grad 0.5003</text>\n</g>\n<!-- 4974422048&#45;&gt;4975507104+ -->\n<g id=\"edge14\" class=\"edge\">\n<title>4974422048&#45;&gt;4975507104+</title>\n<path fill=\"none\" stroke=\"black\" d=\"M887.84,-142.07C909.83,-138.84 932.09,-135.57 949.94,-132.95\"/>\n<polygon fill=\"black\" stroke=\"black\" points=\"950.37,-136.42 959.75,-131.5 949.35,-129.5 950.37,-136.42\"/>\n</g>\n<!-- 4975507008 -->\n<g id=\"node4\" class=\"node\">\n<title>4975507008</title>\n<polygon fill=\"none\" stroke=\"black\" points=\"1362,-136.5 1362,-172.5 1544,-172.5 1544,-136.5 1362,-136.5\"/>\n<text text-anchor=\"middle\" x=\"1372\" y=\"-150.8\" font-family=\"Times,serif\" font-size=\"14.00\"> </text>\n<polyline fill=\"none\" stroke=\"black\" points=\"1382,-136.5 1382,-172.5\"/>\n<text text-anchor=\"middle\" x=\"1422\" y=\"-150.8\" font-family=\"Times,serif\" font-size=\"14.00\">data 1.7620</text>\n<polyline fill=\"none\" stroke=\"black\" points=\"1462,-136.5 1462,-172.5\"/>\n<text text-anchor=\"middle\" x=\"1503\" y=\"-150.8\" font-family=\"Times,serif\" font-size=\"14.00\">grad 0.2501</text>\n</g>\n<!-- 4975689008exp -->\n<g id=\"node17\" class=\"node\">\n<title>4975689008exp</title>\n<ellipse fill=\"none\" stroke=\"black\" cx=\"1607\" cy=\"-154.5\" rx=\"27\" ry=\"18\"/>\n<text text-anchor=\"middle\" x=\"1607\" y=\"-150.8\" font-family=\"Times,serif\" font-size=\"14.00\">exp</text>\n</g>\n<!-- 4975507008&#45;&gt;4975689008exp -->\n<g id=\"edge13\" class=\"edge\">\n<title>4975507008&#45;&gt;4975689008exp</title>\n<path fill=\"none\" stroke=\"black\" d=\"M1543.74,-154.5C1552.34,-154.5 1560.7,-154.5 1568.36,-154.5\"/>\n<polygon fill=\"black\" stroke=\"black\" points=\"1568.24,-158 1578.24,-154.5 1568.24,-151 1568.24,-158\"/>\n</g>\n<!-- 4975507008* -->\n<g id=\"node5\" class=\"node\">\n<title>4975507008*</title>\n<ellipse fill=\"none\" stroke=\"black\" cx=\"1299\" cy=\"-154.5\" rx=\"27\" ry=\"18\"/>\n<text text-anchor=\"middle\" x=\"1299\" y=\"-150.8\" font-family=\"Times,serif\" font-size=\"14.00\">*</text>\n</g>\n<!-- 4975507008*&#45;&gt;4975507008 -->\n<g id=\"edge2\" class=\"edge\">\n<title>4975507008*&#45;&gt;4975507008</title>\n<path fill=\"none\" stroke=\"black\" d=\"M1326.48,-154.5C1333.71,-154.5 1342.01,-154.5 1350.82,-154.5\"/>\n<polygon fill=\"black\" stroke=\"black\" points=\"1350.69,-158 1360.69,-154.5 1350.69,-151 1350.69,-158\"/>\n</g>\n<!-- 4974421616 -->\n<g id=\"node6\" class=\"node\">\n<title>4974421616</title>\n<polygon fill=\"none\" stroke=\"black\" points=\"0,-165.5 0,-201.5 200,-201.5 200,-165.5 0,-165.5\"/>\n<text text-anchor=\"middle\" x=\"16.5\" y=\"-179.8\" font-family=\"Times,serif\" font-size=\"14.00\">w1</text>\n<polyline fill=\"none\" stroke=\"black\" points=\"33,-165.5 33,-201.5\"/>\n<text text-anchor=\"middle\" x=\"75.5\" y=\"-179.8\" font-family=\"Times,serif\" font-size=\"14.00\">data &#45;3.0000</text>\n<polyline fill=\"none\" stroke=\"black\" points=\"118,-165.5 118,-201.5\"/>\n<text text-anchor=\"middle\" x=\"159\" y=\"-179.8\" font-family=\"Times,serif\" font-size=\"14.00\">grad 1.0005</text>\n</g>\n<!-- 4974423536* -->\n<g id=\"node15\" class=\"node\">\n<title>4974423536*</title>\n<ellipse fill=\"none\" stroke=\"black\" cx=\"263\" cy=\"-128.5\" rx=\"27\" ry=\"18\"/>\n<text text-anchor=\"middle\" x=\"263\" y=\"-124.8\" font-family=\"Times,serif\" font-size=\"14.00\">*</text>\n</g>\n<!-- 4974421616&#45;&gt;4974423536* -->\n<g id=\"edge26\" class=\"edge\">\n<title>4974421616&#45;&gt;4974423536*</title>\n<path fill=\"none\" stroke=\"black\" d=\"M172.27,-165.52C181.67,-162.72 191.12,-159.7 200,-156.5 210.09,-152.87 220.83,-148.29 230.48,-143.89\"/>\n<polygon fill=\"black\" stroke=\"black\" points=\"231.87,-147.11 239.45,-139.71 228.91,-140.76 231.87,-147.11\"/>\n</g>\n<!-- 4975688816 -->\n<g id=\"node7\" class=\"node\">\n<title>4975688816</title>\n<polygon fill=\"none\" stroke=\"black\" points=\"1670.5,-81.5 1670.5,-117.5 1856.5,-117.5 1856.5,-81.5 1670.5,-81.5\"/>\n<text text-anchor=\"middle\" x=\"1680.5\" y=\"-95.8\" font-family=\"Times,serif\" font-size=\"14.00\"> </text>\n<polyline fill=\"none\" stroke=\"black\" points=\"1690.5,-81.5 1690.5,-117.5\"/>\n<text text-anchor=\"middle\" x=\"1730.5\" y=\"-95.8\" font-family=\"Times,serif\" font-size=\"14.00\">data 1.0000</text>\n<polyline fill=\"none\" stroke=\"black\" points=\"1770.5,-81.5 1770.5,-117.5\"/>\n<text text-anchor=\"middle\" x=\"1813.5\" y=\"-95.8\" font-family=\"Times,serif\" font-size=\"14.00\">grad &#45;0.1036</text>\n</g>\n<!-- 4975688528+ -->\n<g id=\"node20\" class=\"node\">\n<title>4975688528+</title>\n<ellipse fill=\"none\" stroke=\"black\" cx=\"1920\" cy=\"-126.5\" rx=\"27\" ry=\"18\"/>\n<text text-anchor=\"middle\" x=\"1920\" y=\"-122.8\" font-family=\"Times,serif\" font-size=\"14.00\">+</text>\n</g>\n<!-- 4975688816&#45;&gt;4975688528+ -->\n<g id=\"edge22\" class=\"edge\">\n<title>4975688816&#45;&gt;4975688528+</title>\n<path fill=\"none\" stroke=\"black\" d=\"M1856.16,-115.52C1865.33,-117.12 1874.21,-118.67 1882.28,-120.08\"/>\n<polygon fill=\"black\" stroke=\"black\" points=\"1881.5,-123.5 1891.95,-121.77 1882.71,-116.6 1881.5,-123.5\"/>\n</g>\n<!-- 4975507104 -->\n<g id=\"node8\" class=\"node\">\n<title>4975507104</title>\n<polygon fill=\"none\" stroke=\"black\" points=\"1051,-109.5 1051,-145.5 1236,-145.5 1236,-109.5 1051,-109.5\"/>\n<text text-anchor=\"middle\" x=\"1062.5\" y=\"-123.8\" font-family=\"Times,serif\" font-size=\"14.00\">n</text>\n<polyline fill=\"none\" stroke=\"black\" points=\"1074,-109.5 1074,-145.5\"/>\n<text text-anchor=\"middle\" x=\"1114\" y=\"-123.8\" font-family=\"Times,serif\" font-size=\"14.00\">data 0.8810</text>\n<polyline fill=\"none\" stroke=\"black\" points=\"1154,-109.5 1154,-145.5\"/>\n<text text-anchor=\"middle\" x=\"1195\" y=\"-123.8\" font-family=\"Times,serif\" font-size=\"14.00\">grad 0.5003</text>\n</g>\n<!-- 4975507104&#45;&gt;4975507008* -->\n<g id=\"edge25\" class=\"edge\">\n<title>4975507104&#45;&gt;4975507008*</title>\n<path fill=\"none\" stroke=\"black\" d=\"M1235.57,-143.52C1244.67,-145.12 1253.5,-146.67 1261.52,-148.08\"/>\n<polygon fill=\"black\" stroke=\"black\" points=\"1260.66,-151.49 1271.12,-149.77 1261.88,-144.59 1260.66,-151.49\"/>\n</g>\n<!-- 4975507104+&#45;&gt;4975507104 -->\n<g id=\"edge3\" class=\"edge\">\n<title>4975507104+&#45;&gt;4975507104</title>\n<path fill=\"none\" stroke=\"black\" d=\"M1015.39,-127.5C1022.62,-127.5 1030.92,-127.5 1039.74,-127.5\"/>\n<polygon fill=\"black\" stroke=\"black\" points=\"1039.64,-131 1049.64,-127.5 1039.64,-124 1039.64,-131\"/>\n</g>\n<!-- 4974423920 -->\n<g id=\"node10\" class=\"node\">\n<title>4974423920</title>\n<polygon fill=\"none\" stroke=\"black\" points=\"2,-110.5 2,-146.5 198,-146.5 198,-110.5 2,-110.5\"/>\n<text text-anchor=\"middle\" x=\"17\" y=\"-124.8\" font-family=\"Times,serif\" font-size=\"14.00\">x1</text>\n<polyline fill=\"none\" stroke=\"black\" points=\"32,-110.5 32,-146.5\"/>\n<text text-anchor=\"middle\" x=\"72\" y=\"-124.8\" font-family=\"Times,serif\" font-size=\"14.00\">data 2.0000</text>\n<polyline fill=\"none\" stroke=\"black\" points=\"112,-110.5 112,-146.5\"/>\n<text text-anchor=\"middle\" x=\"155\" y=\"-124.8\" font-family=\"Times,serif\" font-size=\"14.00\">grad &#45;1.5008</text>\n</g>\n<!-- 4974423920&#45;&gt;4974423536* -->\n<g id=\"edge19\" class=\"edge\">\n<title>4974423920&#45;&gt;4974423536*</title>\n<path fill=\"none\" stroke=\"black\" d=\"M197.91,-128.5C207.21,-128.5 216.21,-128.5 224.38,-128.5\"/>\n<polygon fill=\"black\" stroke=\"black\" points=\"224.18,-132 234.18,-128.5 224.18,-125 224.18,-132\"/>\n</g>\n<!-- 4975696576 -->\n<g id=\"node11\" class=\"node\">\n<title>4975696576</title>\n<polygon fill=\"none\" stroke=\"black\" points=\"2731,-135.5 2731,-171.5 2916,-171.5 2916,-135.5 2731,-135.5\"/>\n<text text-anchor=\"middle\" x=\"2742.5\" y=\"-149.8\" font-family=\"Times,serif\" font-size=\"14.00\">o</text>\n<polyline fill=\"none\" stroke=\"black\" points=\"2754,-135.5 2754,-171.5\"/>\n<text text-anchor=\"middle\" x=\"2794\" y=\"-149.8\" font-family=\"Times,serif\" font-size=\"14.00\">data 0.7069</text>\n<polyline fill=\"none\" stroke=\"black\" points=\"2834,-135.5 2834,-171.5\"/>\n<text text-anchor=\"middle\" x=\"2875\" y=\"-149.8\" font-family=\"Times,serif\" font-size=\"14.00\">grad 1.0000</text>\n</g>\n<!-- 4975696576* -->\n<g id=\"node12\" class=\"node\">\n<title>4975696576*</title>\n<ellipse fill=\"none\" stroke=\"black\" cx=\"2668\" cy=\"-153.5\" rx=\"27\" ry=\"18\"/>\n<text text-anchor=\"middle\" x=\"2668\" y=\"-149.8\" font-family=\"Times,serif\" font-size=\"14.00\">*</text>\n</g>\n<!-- 4975696576*&#45;&gt;4975696576 -->\n<g id=\"edge4\" class=\"edge\">\n<title>4975696576*&#45;&gt;4975696576</title>\n<path fill=\"none\" stroke=\"black\" d=\"M2695.39,-153.5C2702.62,-153.5 2710.92,-153.5 2719.74,-153.5\"/>\n<polygon fill=\"black\" stroke=\"black\" points=\"2719.64,-157 2729.64,-153.5 2719.64,-150 2719.64,-157\"/>\n</g>\n<!-- 4975508208 -->\n<g id=\"node13\" class=\"node\">\n<title>4975508208</title>\n<polygon fill=\"none\" stroke=\"black\" points=\"1052.5,-164.5 1052.5,-200.5 1234.5,-200.5 1234.5,-164.5 1052.5,-164.5\"/>\n<text text-anchor=\"middle\" x=\"1062.5\" y=\"-178.8\" font-family=\"Times,serif\" font-size=\"14.00\"> </text>\n<polyline fill=\"none\" stroke=\"black\" points=\"1072.5,-164.5 1072.5,-200.5\"/>\n<text text-anchor=\"middle\" x=\"1112.5\" y=\"-178.8\" font-family=\"Times,serif\" font-size=\"14.00\">data 2.0000</text>\n<polyline fill=\"none\" stroke=\"black\" points=\"1152.5,-164.5 1152.5,-200.5\"/>\n<text text-anchor=\"middle\" x=\"1193.5\" y=\"-178.8\" font-family=\"Times,serif\" font-size=\"14.00\">grad 0.2204</text>\n</g>\n<!-- 4975508208&#45;&gt;4975507008* -->\n<g id=\"edge16\" class=\"edge\">\n<title>4975508208&#45;&gt;4975507008*</title>\n<path fill=\"none\" stroke=\"black\" d=\"M1234.24,-166.13C1243.78,-164.39 1253.05,-162.7 1261.42,-161.17\"/>\n<polygon fill=\"black\" stroke=\"black\" points=\"1261.91,-164.64 1271.12,-159.4 1260.66,-157.75 1261.91,-164.64\"/>\n</g>\n<!-- 4974423536 -->\n<g id=\"node14\" class=\"node\">\n<title>4974423536</title>\n<polygon fill=\"none\" stroke=\"black\" points=\"326,-110.5 326,-146.5 540,-146.5 540,-110.5 326,-110.5\"/>\n<text text-anchor=\"middle\" x=\"349.5\" y=\"-124.8\" font-family=\"Times,serif\" font-size=\"14.00\">x1w1</text>\n<polyline fill=\"none\" stroke=\"black\" points=\"373,-110.5 373,-146.5\"/>\n<text text-anchor=\"middle\" x=\"415.5\" y=\"-124.8\" font-family=\"Times,serif\" font-size=\"14.00\">data &#45;6.0000</text>\n<polyline fill=\"none\" stroke=\"black\" points=\"458,-110.5 458,-146.5\"/>\n<text text-anchor=\"middle\" x=\"499\" y=\"-124.8\" font-family=\"Times,serif\" font-size=\"14.00\">grad 0.5003</text>\n</g>\n<!-- 4974423536&#45;&gt;4975506960+ -->\n<g id=\"edge24\" class=\"edge\">\n<title>4974423536&#45;&gt;4975506960+</title>\n<path fill=\"none\" stroke=\"black\" d=\"M539.92,-110.85C548.88,-109.35 557.49,-107.92 565.29,-106.62\"/>\n<polygon fill=\"black\" stroke=\"black\" points=\"565.66,-110.1 574.95,-105.01 564.51,-103.2 565.66,-110.1\"/>\n</g>\n<!-- 4974423536*&#45;&gt;4974423536 -->\n<g id=\"edge5\" class=\"edge\">\n<title>4974423536*&#45;&gt;4974423536</title>\n<path fill=\"none\" stroke=\"black\" d=\"M290.25,-128.5C297.53,-128.5 305.94,-128.5 314.95,-128.5\"/>\n<polygon fill=\"black\" stroke=\"black\" points=\"314.69,-132 324.69,-128.5 314.69,-125 314.69,-132\"/>\n</g>\n<!-- 4975689008 -->\n<g id=\"node16\" class=\"node\">\n<title>4975689008</title>\n<polygon fill=\"none\" stroke=\"black\" points=\"1672.5,-136.5 1672.5,-172.5 1854.5,-172.5 1854.5,-136.5 1672.5,-136.5\"/>\n<text text-anchor=\"middle\" x=\"1682.5\" y=\"-150.8\" font-family=\"Times,serif\" font-size=\"14.00\"> </text>\n<polyline fill=\"none\" stroke=\"black\" points=\"1692.5,-136.5 1692.5,-172.5\"/>\n<text text-anchor=\"middle\" x=\"1732.5\" y=\"-150.8\" font-family=\"Times,serif\" font-size=\"14.00\">data 5.8241</text>\n<polyline fill=\"none\" stroke=\"black\" points=\"1772.5,-136.5 1772.5,-172.5\"/>\n<text text-anchor=\"middle\" x=\"1813.5\" y=\"-150.8\" font-family=\"Times,serif\" font-size=\"14.00\">grad 0.0429</text>\n</g>\n<!-- 4975689008&#45;&gt;4975688528+ -->\n<g id=\"edge23\" class=\"edge\">\n<title>4975689008&#45;&gt;4975688528+</title>\n<path fill=\"none\" stroke=\"black\" d=\"M1854.37,-138.21C1864.23,-136.43 1873.81,-134.69 1882.44,-133.13\"/>\n<polygon fill=\"black\" stroke=\"black\" points=\"1882.85,-136.61 1892.06,-131.38 1881.6,-129.72 1882.85,-136.61\"/>\n</g>\n<!-- 4975688672+ -->\n<g id=\"node27\" class=\"node\">\n<title>4975688672+</title>\n<ellipse fill=\"none\" stroke=\"black\" cx=\"1920\" cy=\"-181.5\" rx=\"27\" ry=\"18\"/>\n<text text-anchor=\"middle\" x=\"1920\" y=\"-177.8\" font-family=\"Times,serif\" font-size=\"14.00\">+</text>\n</g>\n<!-- 4975689008&#45;&gt;4975688672+ -->\n<g id=\"edge17\" class=\"edge\">\n<title>4975689008&#45;&gt;4975688672+</title>\n<path fill=\"none\" stroke=\"black\" d=\"M1854.37,-170.21C1864.23,-171.93 1873.81,-173.6 1882.44,-175.11\"/>\n<polygon fill=\"black\" stroke=\"black\" points=\"1881.61,-178.52 1892.06,-176.79 1882.81,-171.62 1881.61,-178.52\"/>\n</g>\n<!-- 4975689008exp&#45;&gt;4975689008 -->\n<g id=\"edge6\" class=\"edge\">\n<title>4975689008exp&#45;&gt;4975689008</title>\n<path fill=\"none\" stroke=\"black\" d=\"M1634.21,-154.5C1642.15,-154.5 1651.4,-154.5 1661.22,-154.5\"/>\n<polygon fill=\"black\" stroke=\"black\" points=\"1661.01,-158 1671.01,-154.5 1661.01,-151 1661.01,-158\"/>\n</g>\n<!-- 4973547328 -->\n<g id=\"node18\" class=\"node\">\n<title>4973547328</title>\n<polygon fill=\"none\" stroke=\"black\" points=\"4,-55.5 4,-91.5 196,-91.5 196,-55.5 4,-55.5\"/>\n<text text-anchor=\"middle\" x=\"19\" y=\"-69.8\" font-family=\"Times,serif\" font-size=\"14.00\">x2</text>\n<polyline fill=\"none\" stroke=\"black\" points=\"34,-55.5 34,-91.5\"/>\n<text text-anchor=\"middle\" x=\"74\" y=\"-69.8\" font-family=\"Times,serif\" font-size=\"14.00\">data 0.0000</text>\n<polyline fill=\"none\" stroke=\"black\" points=\"114,-55.5 114,-91.5\"/>\n<text text-anchor=\"middle\" x=\"155\" y=\"-69.8\" font-family=\"Times,serif\" font-size=\"14.00\">grad 0.5003</text>\n</g>\n<!-- 4975507824* -->\n<g id=\"node23\" class=\"node\">\n<title>4975507824*</title>\n<ellipse fill=\"none\" stroke=\"black\" cx=\"263\" cy=\"-73.5\" rx=\"27\" ry=\"18\"/>\n<text text-anchor=\"middle\" x=\"263\" y=\"-69.8\" font-family=\"Times,serif\" font-size=\"14.00\">*</text>\n</g>\n<!-- 4973547328&#45;&gt;4975507824* -->\n<g id=\"edge21\" class=\"edge\">\n<title>4973547328&#45;&gt;4975507824*</title>\n<path fill=\"none\" stroke=\"black\" d=\"M195.59,-73.5C205.66,-73.5 215.42,-73.5 224.23,-73.5\"/>\n<polygon fill=\"black\" stroke=\"black\" points=\"224.07,-77 234.07,-73.5 224.07,-70 224.07,-77\"/>\n</g>\n<!-- 4975688528 -->\n<g id=\"node19\" class=\"node\">\n<title>4975688528</title>\n<polygon fill=\"none\" stroke=\"black\" points=\"1983,-108.5 1983,-144.5 2169,-144.5 2169,-108.5 1983,-108.5\"/>\n<text text-anchor=\"middle\" x=\"1993\" y=\"-122.8\" font-family=\"Times,serif\" font-size=\"14.00\"> </text>\n<polyline fill=\"none\" stroke=\"black\" points=\"2003,-108.5 2003,-144.5\"/>\n<text text-anchor=\"middle\" x=\"2043\" y=\"-122.8\" font-family=\"Times,serif\" font-size=\"14.00\">data 6.8241</text>\n<polyline fill=\"none\" stroke=\"black\" points=\"2083,-108.5 2083,-144.5\"/>\n<text text-anchor=\"middle\" x=\"2126\" y=\"-122.8\" font-family=\"Times,serif\" font-size=\"14.00\">grad &#45;0.1036</text>\n</g>\n<!-- 4975696768**&#45;1 -->\n<g id=\"node25\" class=\"node\">\n<title>4975696768**&#45;1</title>\n<ellipse fill=\"none\" stroke=\"black\" cx=\"2296\" cy=\"-126.5\" rx=\"27\" ry=\"18\"/>\n<text text-anchor=\"middle\" x=\"2296\" y=\"-122.8\" font-family=\"Times,serif\" font-size=\"14.00\">**&#45;1</text>\n</g>\n<!-- 4975688528&#45;&gt;4975696768**&#45;1 -->\n<g id=\"edge27\" class=\"edge\">\n<title>4975688528&#45;&gt;4975696768**&#45;1</title>\n<path fill=\"none\" stroke=\"black\" d=\"M2168.82,-126.5C2200.02,-126.5 2233.15,-126.5 2257.62,-126.5\"/>\n<polygon fill=\"black\" stroke=\"black\" points=\"2257.39,-130 2267.39,-126.5 2257.39,-123 2257.39,-130\"/>\n</g>\n<!-- 4975688528+&#45;&gt;4975688528 -->\n<g id=\"edge7\" class=\"edge\">\n<title>4975688528+&#45;&gt;4975688528</title>\n<path fill=\"none\" stroke=\"black\" d=\"M1947.47,-126.5C1954.67,-126.5 1962.92,-126.5 1971.69,-126.5\"/>\n<polygon fill=\"black\" stroke=\"black\" points=\"1971.51,-130 1981.51,-126.5 1971.51,-123 1971.51,-130\"/>\n</g>\n<!-- 4975688480 -->\n<g id=\"node21\" class=\"node\">\n<title>4975688480</title>\n<polygon fill=\"none\" stroke=\"black\" points=\"1670,-191.5 1670,-227.5 1857,-227.5 1857,-191.5 1670,-191.5\"/>\n<text text-anchor=\"middle\" x=\"1680\" y=\"-205.8\" font-family=\"Times,serif\" font-size=\"14.00\"> </text>\n<polyline fill=\"none\" stroke=\"black\" points=\"1690,-191.5 1690,-227.5\"/>\n<text text-anchor=\"middle\" x=\"1732.5\" y=\"-205.8\" font-family=\"Times,serif\" font-size=\"14.00\">data &#45;1.0000</text>\n<polyline fill=\"none\" stroke=\"black\" points=\"1775,-191.5 1775,-227.5\"/>\n<text text-anchor=\"middle\" x=\"1816\" y=\"-205.8\" font-family=\"Times,serif\" font-size=\"14.00\">grad 0.1465</text>\n</g>\n<!-- 4975688480&#45;&gt;4975688672+ -->\n<g id=\"edge15\" class=\"edge\">\n<title>4975688480&#45;&gt;4975688672+</title>\n<path fill=\"none\" stroke=\"black\" d=\"M1856.6,-192.81C1865.72,-191.16 1874.55,-189.56 1882.56,-188.1\"/>\n<polygon fill=\"black\" stroke=\"black\" points=\"1882.94,-191.59 1892.16,-186.36 1881.7,-184.7 1882.94,-191.59\"/>\n</g>\n<!-- 4975507824 -->\n<g id=\"node22\" class=\"node\">\n<title>4975507824</title>\n<polygon fill=\"none\" stroke=\"black\" points=\"328.5,-55.5 328.5,-91.5 537.5,-91.5 537.5,-55.5 328.5,-55.5\"/>\n<text text-anchor=\"middle\" x=\"352\" y=\"-69.8\" font-family=\"Times,serif\" font-size=\"14.00\">x2w2</text>\n<polyline fill=\"none\" stroke=\"black\" points=\"375.5,-55.5 375.5,-91.5\"/>\n<text text-anchor=\"middle\" x=\"415.5\" y=\"-69.8\" font-family=\"Times,serif\" font-size=\"14.00\">data 0.0000</text>\n<polyline fill=\"none\" stroke=\"black\" points=\"455.5,-55.5 455.5,-91.5\"/>\n<text text-anchor=\"middle\" x=\"496.5\" y=\"-69.8\" font-family=\"Times,serif\" font-size=\"14.00\">grad 0.5003</text>\n</g>\n<!-- 4975507824&#45;&gt;4975506960+ -->\n<g id=\"edge20\" class=\"edge\">\n<title>4975507824&#45;&gt;4975506960+</title>\n<path fill=\"none\" stroke=\"black\" d=\"M537.05,-90.06C547.04,-91.67 556.65,-93.21 565.28,-94.6\"/>\n<polygon fill=\"black\" stroke=\"black\" points=\"564.45,-98.01 574.88,-96.14 565.56,-91.1 564.45,-98.01\"/>\n</g>\n<!-- 4975507824*&#45;&gt;4975507824 -->\n<g id=\"edge8\" class=\"edge\">\n<title>4975507824*&#45;&gt;4975507824</title>\n<path fill=\"none\" stroke=\"black\" d=\"M290.25,-73.5C298.16,-73.5 307.4,-73.5 317.3,-73.5\"/>\n<polygon fill=\"black\" stroke=\"black\" points=\"317.2,-77 327.2,-73.5 317.2,-70 317.2,-77\"/>\n</g>\n<!-- 4975696768 -->\n<g id=\"node24\" class=\"node\">\n<title>4975696768</title>\n<polygon fill=\"none\" stroke=\"black\" points=\"2423,-112.5 2423,-148.5 2605,-148.5 2605,-112.5 2423,-112.5\"/>\n<text text-anchor=\"middle\" x=\"2433\" y=\"-126.8\" font-family=\"Times,serif\" font-size=\"14.00\"> </text>\n<polyline fill=\"none\" stroke=\"black\" points=\"2443,-112.5 2443,-148.5\"/>\n<text text-anchor=\"middle\" x=\"2483\" y=\"-126.8\" font-family=\"Times,serif\" font-size=\"14.00\">data 0.1465</text>\n<polyline fill=\"none\" stroke=\"black\" points=\"2523,-112.5 2523,-148.5\"/>\n<text text-anchor=\"middle\" x=\"2564\" y=\"-126.8\" font-family=\"Times,serif\" font-size=\"14.00\">grad 4.8241</text>\n</g>\n<!-- 4975696768&#45;&gt;4975696576* -->\n<g id=\"edge11\" class=\"edge\">\n<title>4975696768&#45;&gt;4975696576*</title>\n<path fill=\"none\" stroke=\"black\" d=\"M2604.74,-144.08C2613.62,-145.42 2622.23,-146.73 2630.09,-147.91\"/>\n<polygon fill=\"black\" stroke=\"black\" points=\"2629.45,-151.36 2639.86,-149.39 2630.49,-144.44 2629.45,-151.36\"/>\n</g>\n<!-- 4975696768**&#45;1&#45;&gt;4975696768 -->\n<g id=\"edge9\" class=\"edge\">\n<title>4975696768**&#45;1&#45;&gt;4975696768</title>\n<path fill=\"none\" stroke=\"black\" d=\"M2323.49,-126.99C2345.76,-127.4 2379.08,-128.02 2411.61,-128.62\"/>\n<polygon fill=\"black\" stroke=\"black\" points=\"2411.48,-132.12 2421.55,-128.81 2411.61,-125.12 2411.48,-132.12\"/>\n</g>\n<!-- 4975688672 -->\n<g id=\"node26\" class=\"node\">\n<title>4975688672</title>\n<polygon fill=\"none\" stroke=\"black\" points=\"2205,-163.5 2205,-199.5 2387,-199.5 2387,-163.5 2205,-163.5\"/>\n<text text-anchor=\"middle\" x=\"2215\" y=\"-177.8\" font-family=\"Times,serif\" font-size=\"14.00\"> </text>\n<polyline fill=\"none\" stroke=\"black\" points=\"2225,-163.5 2225,-199.5\"/>\n<text text-anchor=\"middle\" x=\"2265\" y=\"-177.8\" font-family=\"Times,serif\" font-size=\"14.00\">data 4.8241</text>\n<polyline fill=\"none\" stroke=\"black\" points=\"2305,-163.5 2305,-199.5\"/>\n<text text-anchor=\"middle\" x=\"2346\" y=\"-177.8\" font-family=\"Times,serif\" font-size=\"14.00\">grad 0.1465</text>\n</g>\n<!-- 4975688672&#45;&gt;4975696576* -->\n<g id=\"edge28\" class=\"edge\">\n<title>4975688672&#45;&gt;4975696576*</title>\n<path fill=\"none\" stroke=\"black\" d=\"M2386.97,-174.92C2448.4,-170.4 2531.63,-164.2 2605,-158.5 2612.88,-157.89 2621.33,-157.22 2629.38,-156.57\"/>\n<polygon fill=\"black\" stroke=\"black\" points=\"2629.56,-160.07 2639.25,-155.77 2629,-153.09 2629.56,-160.07\"/>\n</g>\n<!-- 4975688672+&#45;&gt;4975688672 -->\n<g id=\"edge10\" class=\"edge\">\n<title>4975688672+&#45;&gt;4975688672</title>\n<path fill=\"none\" stroke=\"black\" d=\"M1947.3,-181.5C1997.69,-181.5 2110.25,-181.5 2193.73,-181.5\"/>\n<polygon fill=\"black\" stroke=\"black\" points=\"2193.53,-185 2203.53,-181.5 2193.53,-178 2193.53,-185\"/>\n</g>\n<!-- 4974420464 -->\n<g id=\"node28\" class=\"node\">\n<title>4974420464</title>\n<polygon fill=\"none\" stroke=\"black\" points=\"2.5,-0.5 2.5,-36.5 197.5,-36.5 197.5,-0.5 2.5,-0.5\"/>\n<text text-anchor=\"middle\" x=\"19\" y=\"-14.8\" font-family=\"Times,serif\" font-size=\"14.00\">w2</text>\n<polyline fill=\"none\" stroke=\"black\" points=\"35.5,-0.5 35.5,-36.5\"/>\n<text text-anchor=\"middle\" x=\"75.5\" y=\"-14.8\" font-family=\"Times,serif\" font-size=\"14.00\">data 1.0000</text>\n<polyline fill=\"none\" stroke=\"black\" points=\"115.5,-0.5 115.5,-36.5\"/>\n<text text-anchor=\"middle\" x=\"156.5\" y=\"-14.8\" font-family=\"Times,serif\" font-size=\"14.00\">grad 0.0000</text>\n</g>\n<!-- 4974420464&#45;&gt;4975507824* -->\n<g id=\"edge12\" class=\"edge\">\n<title>4974420464&#45;&gt;4975507824*</title>\n<path fill=\"none\" stroke=\"black\" d=\"M172.27,-36.48C181.67,-39.28 191.12,-42.3 200,-45.5 210.09,-49.13 220.83,-53.71 230.48,-58.11\"/>\n<polygon fill=\"black\" stroke=\"black\" points=\"228.91,-61.24 239.45,-62.29 231.87,-54.89 228.91,-61.24\"/>\n</g>\n</g>\n</svg>\n",
      "text/plain": [
       "<graphviz.graphs.Digraph at 0x1287e9fa0>"
      ]
     },
     "execution_count": 166,
     "metadata": {},
     "output_type": "execute_result"
    }
   ],
   "source": [
    "draw_dot(o)"
   ]
  },
  {
   "cell_type": "code",
   "execution_count": 184,
   "metadata": {},
   "outputs": [],
   "source": [
    "import torch\n",
    "import random"
   ]
  },
  {
   "cell_type": "code",
   "execution_count": 227,
   "metadata": {},
   "outputs": [
    {
     "name": "stdout",
     "output_type": "stream",
     "text": [
      "0.7069199593198744\n",
      "-----\n",
      "x2 0.5002641711151872\n",
      "x1 -1.5007925133455615\n",
      "w1 1.0005283422303743\n",
      "w2 0.0\n"
     ]
    }
   ],
   "source": [
    "x1 = torch.Tensor([2.0]).double() ; x1.requires_grad = True\n",
    "x2 = torch.Tensor([0.0]).double() ; x2.requires_grad = True\n",
    "w1 = torch.Tensor([-3.0]).double() ; w1.requires_grad = True\n",
    "w2 = torch.Tensor([1.0]).double() ; w2.requires_grad = True\n",
    "b = torch.Tensor([6.881]).double() ; b.requires_grad = True\n",
    "n = x1 * w1 + x2 * w2 + b\n",
    "o = torch.tanh(n)\n",
    "\n",
    "print(o.data.item())\n",
    "o.backward()\n",
    "\n",
    "print(\"-----\")\n",
    "print(\"x2\", x2.grad.item())\n",
    "print(\"x1\", x1.grad.item())\n",
    "print(\"w1\", w1.grad.item())\n",
    "print(\"w2\", w2.grad.item())\n"
   ]
  },
  {
   "cell_type": "code",
   "execution_count": 251,
   "metadata": {},
   "outputs": [],
   "source": [
    "class Neuron:\n",
    "\n",
    "    def __init__(self, nin):\n",
    "        self.w = [Value(random.uniform(-1, 1)) for _ in range(nin)]\n",
    "        self.b = Value(random.uniform(-1,1))\n",
    "\n",
    "    def __call__(self, x):\n",
    "        act = sum((wi * xi for wi, xi in zip(self.w, x)) , self.b)\n",
    "        out = act.tanh()\n",
    "        return out\n",
    "\n",
    "    def parameters(self):\n",
    "        return self.w + [self.b]\n",
    "\n",
    "class Layer:\n",
    "    \n",
    "        def __init__(self, nin, nout):\n",
    "            self.neurons = [Neuron(nin) for _ in range(nout)]\n",
    "    \n",
    "        def __call__(self, x):\n",
    "            outs = [n(x) for n in self.neurons]\n",
    "            return outs[0] if len(outs) == 1 else outs\n",
    "\n",
    "        def parameters(self):\n",
    "            return [p for neuron in self.neurons for p in neuron.parameters()]\n",
    "\n",
    "class MLP:\n",
    "        \n",
    "        def __init__(self, nin, nouts):\n",
    "            sz = [nin] + nouts\n",
    "            self.layers = [Layer(sz[i], sz[i+1]) for i in range(len(nouts))]\n",
    "        \n",
    "        def __call__(self, x):\n",
    "            for layer in self.layers:\n",
    "                x = layer(x)\n",
    "            return x\n",
    "\n",
    "        def parameters(self):\n",
    "            return [p for layer in self.layers for p in layer.parameters()]\n"
   ]
  },
  {
   "cell_type": "code",
   "execution_count": 254,
   "metadata": {},
   "outputs": [
    {
     "data": {
      "text/plain": [
       "[Value(data=0.2256477689121017),\n",
       " Value(data=0.9503669154089953),\n",
       " Value(data=0.3397160660947498),\n",
       " Value(data=0.18408178725644064),\n",
       " Value(data=-0.47178275800486325),\n",
       " Value(data=-0.31588355810860214),\n",
       " Value(data=0.8228966401645317),\n",
       " Value(data=-0.6850778141679164),\n",
       " Value(data=-0.15376172372435692),\n",
       " Value(data=-0.9835102741569746),\n",
       " Value(data=-0.10080000692612767),\n",
       " Value(data=0.12821160852765678),\n",
       " Value(data=0.706839522221506),\n",
       " Value(data=-0.45995453931950414),\n",
       " Value(data=-0.2860709369079617),\n",
       " Value(data=0.10710454185069662),\n",
       " Value(data=0.8801184352856863),\n",
       " Value(data=0.7716310480655808),\n",
       " Value(data=-0.3643514617333492),\n",
       " Value(data=-0.016166832136906395),\n",
       " Value(data=-0.48010872736056087),\n",
       " Value(data=-0.8734642221749529),\n",
       " Value(data=-0.2619726296285776),\n",
       " Value(data=-0.9873768046523186),\n",
       " Value(data=-0.7936492803746871),\n",
       " Value(data=0.5768187560240863),\n",
       " Value(data=-0.659074524476895),\n",
       " Value(data=-0.349828753233679),\n",
       " Value(data=0.7729636479768607),\n",
       " Value(data=0.27727747398740776),\n",
       " Value(data=0.34206675319673674),\n",
       " Value(data=0.37074402388099004),\n",
       " Value(data=-0.5765939791825012),\n",
       " Value(data=-0.4959875222629162),\n",
       " Value(data=-0.030362417916366402),\n",
       " Value(data=0.03427913751578737),\n",
       " Value(data=0.07746200894139199)]"
      ]
     },
     "execution_count": 254,
     "metadata": {},
     "output_type": "execute_result"
    }
   ],
   "source": [
    "n.parameters()"
   ]
  },
  {
   "cell_type": "code",
   "execution_count": 253,
   "metadata": {},
   "outputs": [
    {
     "data": {
      "text/plain": [
       "Value(data=-0.6631115399742232)"
      ]
     },
     "execution_count": 253,
     "metadata": {},
     "output_type": "execute_result"
    }
   ],
   "source": [
    "x = [2.0, 3.0, -1.0]\n",
    "n = MLP(2,[4, 4, 1])\n",
    "n(x)"
   ]
  },
  {
   "cell_type": "code",
   "execution_count": 255,
   "metadata": {},
   "outputs": [
    {
     "data": {
      "text/plain": [
       "[Value(data=-0.6631115399742232),\n",
       " Value(data=-0.6383441599954822),\n",
       " Value(data=-0.4773766610045435),\n",
       " Value(data=-0.08472626237921356)]"
      ]
     },
     "execution_count": 255,
     "metadata": {},
     "output_type": "execute_result"
    }
   ],
   "source": [
    "xs = [\n",
    "    [2.0, 3.0, -1.0],\n",
    "    [1.0, 2.0, 3.0],\n",
    "    [0.0, 1.0, 2.0],\n",
    "    [-1.0, 0.0, 1.0],\n",
    "]\n",
    "ys = [1.0, 1.0, -1.0, 1.0]\n",
    "ypred = [n(x) for x in xs]\n",
    "ypred"
   ]
  },
  {
   "cell_type": "code",
   "execution_count": 259,
   "metadata": {},
   "outputs": [
    {
     "ename": "TypeError",
     "evalue": "unsupported operand type(s) for +: 'int' and 'Value'",
     "output_type": "error",
     "traceback": [
      "\u001b[0;31m---------------------------------------------------------------------------\u001b[0m",
      "\u001b[0;31mTypeError\u001b[0m                                 Traceback (most recent call last)",
      "Cell \u001b[0;32mIn [259], line 1\u001b[0m\n\u001b[0;32m----> 1\u001b[0m loss \u001b[39m=\u001b[39m \u001b[39msum\u001b[39;49m((yout \u001b[39m-\u001b[39;49m ygt)\u001b[39m*\u001b[39;49m\u001b[39m*\u001b[39;49m\u001b[39m2\u001b[39;49m \u001b[39mfor\u001b[39;49;00m ygt, yout \u001b[39min\u001b[39;49;00m \u001b[39mzip\u001b[39;49m(ys, ypred))\n",
      "\u001b[0;31mTypeError\u001b[0m: unsupported operand type(s) for +: 'int' and 'Value'"
     ]
    }
   ],
   "source": [
    "loss = sum((yout - ygt)**2 for ygt, yout in zip(ys, ypred))"
   ]
  },
  {
   "cell_type": "code",
   "execution_count": 250,
   "metadata": {},
   "outputs": [
    {
     "ename": "AttributeError",
     "evalue": "'float' object has no attribute 'backword'",
     "output_type": "error",
     "traceback": [
      "\u001b[0;31m---------------------------------------------------------------------------\u001b[0m",
      "\u001b[0;31mAttributeError\u001b[0m                            Traceback (most recent call last)",
      "Cell \u001b[0;32mIn [250], line 1\u001b[0m\n\u001b[0;32m----> 1\u001b[0m loss\u001b[39m.\u001b[39;49mbackword()\n",
      "\u001b[0;31mAttributeError\u001b[0m: 'float' object has no attribute 'backword'"
     ]
    }
   ],
   "source": [
    "loss.backword()"
   ]
  }
 ],
 "metadata": {
  "kernelspec": {
   "display_name": "Python 3.9.10 64-bit ('3.9.10')",
   "language": "python",
   "name": "python3"
  },
  "language_info": {
   "codemirror_mode": {
    "name": "ipython",
    "version": 3
   },
   "file_extension": ".py",
   "mimetype": "text/x-python",
   "name": "python",
   "nbconvert_exporter": "python",
   "pygments_lexer": "ipython3",
   "version": "3.9.10"
  },
  "orig_nbformat": 4,
  "vscode": {
   "interpreter": {
    "hash": "7515e3fb3a7c45f01e97653956c1a20a2193304f48586ce0511b6434072dfc35"
   }
  }
 },
 "nbformat": 4,
 "nbformat_minor": 2
}
