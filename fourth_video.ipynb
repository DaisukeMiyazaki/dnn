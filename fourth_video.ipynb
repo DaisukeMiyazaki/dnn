{
 "cells": [
  {
   "cell_type": "code",
   "execution_count": 3,
   "metadata": {},
   "outputs": [],
   "source": [
    "import torch\n",
    "import torch.nn.functional as F\n",
    "import matplotlib.pyplot as plt\n",
    "%matplotlib inline"
   ]
  },
  {
   "cell_type": "code",
   "execution_count": 1,
   "metadata": {},
   "outputs": [
    {
     "data": {
      "text/plain": [
       "['emma', 'olivia', 'ava', 'isabella', 'sophia', 'charlotte', 'mia', 'daisuke']"
      ]
     },
     "execution_count": 1,
     "metadata": {},
     "output_type": "execute_result"
    }
   ],
   "source": [
    "words = open(\"names.txt\", \"r\").read().splitlines()\n",
    "words[:8]"
   ]
  },
  {
   "cell_type": "code",
   "execution_count": 2,
   "metadata": {},
   "outputs": [
    {
     "name": "stdout",
     "output_type": "stream",
     "text": [
      "{1: 'a', 2: 'b', 3: 'c', 4: 'd', 5: 'e', 6: 'f', 7: 'g', 8: 'h', 9: 'i', 10: 'j', 11: 'k', 12: 'l', 13: 'm', 14: 'n', 15: 'o', 16: 'p', 17: 'q', 18: 'r', 19: 's', 20: 't', 21: 'u', 22: 'v', 23: 'w', 24: 'x', 25: 'y', 26: 'z', 0: '.'} 26\n"
     ]
    }
   ],
   "source": [
    "# build the vocab of chars and mapping to/from int\n",
    "chars = sorted(list(set(''.join(words))))\n",
    "stoi = {ch: i + 1 for i, ch in enumerate(chars)}\n",
    "stoi['.'] = 0\n",
    "itos = {i: ch for ch, i in stoi.items()}\n",
    "print(itos, len(chars))"
   ]
  },
  {
   "cell_type": "code",
   "execution_count": 4,
   "metadata": {},
   "outputs": [
    {
     "name": "stdout",
     "output_type": "stream",
     "text": [
      "torch.Size([182453, 3]) torch.Size([182453])\n",
      "torch.Size([22846, 3]) torch.Size([22846])\n",
      "torch.Size([22855, 3]) torch.Size([22855])\n"
     ]
    }
   ],
   "source": [
    "block_size = 3 \n",
    "def build_dataset(words):\n",
    "\n",
    "    X_input, Y_label = [], []\n",
    "    for word in words:\n",
    "        context = [0] * block_size\n",
    "        for ch in word + '.':\n",
    "            ix = stoi[ch]\n",
    "            X_input.append(context)\n",
    "            Y_label.append(ix)\n",
    "            context = context[1:] + [ix] # crop and append\n",
    "\n",
    "    X_input = torch.tensor(X_input, dtype=torch.int64)\n",
    "    Y_label = torch.tensor(Y_label, dtype=torch.int64)\n",
    "    print(X_input.shape, Y_label.shape)\n",
    "    return X_input, Y_label\n",
    "\n",
    "import random\n",
    "random.seed(42)\n",
    "random.shuffle(words)\n",
    "n1 = int(len(words) * 0.8)\n",
    "n2 = int(len(words) * 0.9)\n",
    "\n",
    "Xtr, Ytr = build_dataset(words[:n1])\n",
    "Xdev, Ydev = build_dataset(words[n1:n2])\n",
    "Xte, Yte = build_dataset(words[n2:])"
   ]
  },
  {
   "cell_type": "code",
   "execution_count": 6,
   "metadata": {},
   "outputs": [],
   "source": [
    "# utility function we will use later when comparing manual and auto gradients\n",
    "def cmp(s, dt, t):\n",
    "    ex = torch.all(dt == t.grad).item()\n",
    "    app = torch.allclose(dt, t.grad)\n",
    "    maxdiff = (dt - t.grad).abs().max().item()\n",
    "    print(f'{s: 15s} | exact: {str(ex):5s} | approximate: {str(app):5s} | max diff: {maxdiff}')"
   ]
  },
  {
   "cell_type": "code",
   "execution_count": 8,
   "metadata": {},
   "outputs": [
    {
     "name": "stdout",
     "output_type": "stream",
     "text": [
      "12297\n"
     ]
    }
   ],
   "source": [
    "# MLP revised \n",
    "n_emb = 10\n",
    "hidden_layer = 200\n",
    "vocab_size = len(chars) + 1\n",
    "\n",
    "g = torch.Generator().manual_seed(214483647)\n",
    "C = torch.randn((vocab_size, n_emb), generator=g)\n",
    "W1 = torch.randn((n_emb * block_size, hidden_layer), generator=g) * 5/3 / (n_emb * block_size ** 0.5) # * 0.2\n",
    "b1 = torch.randn((hidden_layer,), generator=g) * 0.1\n",
    "W2 = torch.randn((hidden_layer, vocab_size), generator=g) * 0.1 # smaller weights, avoid 0\n",
    "b2 = torch.randn((vocab_size,), generator=g) * 0.1\n",
    "\n",
    "# batch norm parameters\n",
    "bngain = torch.randn((1, hidden_layer)) * 0.1 + 1.0\n",
    "bnbias = torch.randn((1, hidden_layer)) * 0.1\n",
    "\n",
    "# all zero parameters could mask an incorrect implementation of the backward pass\n",
    "\n",
    "parameters = [C, W1, b1, W2, b2, bngain, bnbias]\n",
    "\n",
    "total_param_size = sum(p.nelement() for p in parameters) # the number of parameters\n",
    "print(total_param_size)\n",
    "for p in parameters:\n",
    "    p.requires_grad = True"
   ]
  },
  {
   "cell_type": "code",
   "execution_count": 10,
   "metadata": {},
   "outputs": [],
   "source": [
    "batch_size = 32\n",
    "n = batch_size # a shorter variable name for convenience\n",
    "# conscruct a minibatch\n",
    "ix = torch.randint(0, Xtr.shape[0], (batch_size,), generator=g)\n",
    "Xb, Yb = Xtr[ix], Ytr[ix] # batch X,Y"
   ]
  },
  {
   "cell_type": "code",
   "execution_count": 12,
   "metadata": {},
   "outputs": [
    {
     "data": {
      "text/plain": [
       "tensor(3.8814, grad_fn=<NegBackward0>)"
      ]
     },
     "execution_count": 12,
     "metadata": {},
     "output_type": "execute_result"
    }
   ],
   "source": [
    "# forward pass, with smaller steps so that it is possible to backward one step at a time\n",
    "\n",
    "emb = C[Xb] # n x block_size x n_emb\n",
    "embcat = emb.view(emb.shape[0], -1) # n x (block_size * n_emb)\n",
    "# linear layer\n",
    "hprebn = embcat @ W1 + b1 # hidden_layer pre-activation\n",
    "# batch norm layer\n",
    "bnmeani = 1/n * hprebn.mean(dim=0, keepdim=True) # 1 x hidden_layer\n",
    "bndiff = hprebn - bnmeani # n x hidden_layer\n",
    "bndiff2 = bndiff ** 2 # n x hidden_layer\n",
    "bnvar = 1/n * (bndiff2).sum(dim=0, keepdim=True) # 1 x hidden_layer\n",
    "bnvar_int = (bnvar + 1e-5) ** -0.5 # 1 x hidden_layer\n",
    "bnraw = bndiff * bnvar_int # n x hidden_layer\n",
    "hpreact = bngain * bnraw + bnbias # n x hidden_layer\n",
    "\n",
    "# non linearity\n",
    "h = torch.tanh(hpreact) # n x hidden_layer\n",
    "# linear layer2\n",
    "logits = h @ W2 + b2 # n x vocab_size\n",
    "# cross entropy loss \n",
    "logits_maxes = logits.max(1, keepdim=True).values\n",
    "norm_logits = logits - logits_maxes # n x vocab_size\n",
    "counts = norm_logits.exp()\n",
    "counts_sum = counts.sum(1, keepdim=True) # n x 1\n",
    "counts_sum_inv = counts_sum**-1\n",
    "probs = counts * counts_sum_inv # n x vocab_size\n",
    "logprobs = probs.log() # n x vocab_size\n",
    "loss = -logprobs[torch.arange(n), Yb].mean() # scalar\n",
    "\n",
    "# pytorch backward pass\n",
    "for p in parameters:\n",
    "    p.grad = None\n",
    "for t in [logprobs, probs, counts, counts_sum, counts_sum_inv, norm_logits,\n",
    "        logits_maxes, logits, h, hpreact, bnraw, bnvar_int, \n",
    "        bndiff2, bndiff, bnvar, bnvar_int, hprebn, bnmeani, embcat, emb]:\n",
    "    t.retain_grad()\n",
    "loss.backward()\n",
    "loss\n"
   ]
  },
  {
   "cell_type": "code",
   "execution_count": null,
   "metadata": {},
   "outputs": [],
   "source": [
    "# exercise here: backprop through through the whole thing manually\n",
    "# backproping through exactyl all of the variables \n",
    "# as they are defined in the forward pass\n",
    "\n",
    "dlogprobs = ???\n",
    "\n",
    "# \n",
    "loss_fast = F.cross_entropy(logits, Yb)\n",
    "print(loss_fast.item(), \"diff:\", (loss_fast - loss).item())"
   ]
  },
  {
   "cell_type": "code",
   "execution_count": null,
   "metadata": {},
   "outputs": [],
   "source": [
    "# exercise here\n",
    "\n",
    "# \n",
    "hpreact_fast = bngain * (hprebn - hprebn.mean(0, keepdim=True)) / torch.sqrt(hprebn.var(0, keepdim=True, unbiased=True) + 1e-5) + bnbias"
   ]
  }
 ],
 "metadata": {
  "kernelspec": {
   "display_name": "nn-bsgCLbAH",
   "language": "python",
   "name": "python3"
  },
  "language_info": {
   "codemirror_mode": {
    "name": "ipython",
    "version": 3
   },
   "file_extension": ".py",
   "mimetype": "text/x-python",
   "name": "python",
   "nbconvert_exporter": "python",
   "pygments_lexer": "ipython3",
   "version": "3.9.14"
  },
  "orig_nbformat": 4,
  "vscode": {
   "interpreter": {
    "hash": "184f2c067958e9c267ce0a7c8aebdd50ce5e8f08e94f6c95374784263bd32a8a"
   }
  }
 },
 "nbformat": 4,
 "nbformat_minor": 2
}
